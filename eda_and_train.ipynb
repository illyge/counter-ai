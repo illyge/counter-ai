{
 "cells": [
  {
   "cell_type": "markdown",
   "metadata": {},
   "source": [
    "# Data Preparation and Analysis"
   ]
  },
  {
   "cell_type": "code",
   "execution_count": 47,
   "metadata": {
    "tags": []
   },
   "outputs": [],
   "source": [
    "import pandas as pd\n",
    "import numpy as np"
   ]
  },
  {
   "cell_type": "code",
   "execution_count": 48,
   "metadata": {
    "tags": []
   },
   "outputs": [
    {
     "data": {
      "text/plain": "      question_id                                           question  \\\n0        11227809  Why is processing a sorted array faster than p...   \n1          927358  How do I undo the most recent local commits in...   \n2         2003505  How do I delete a Git branch locally and remot...   \n3          292357  What is the difference between 'git pull' and ...   \n4          477816  Which JSON content type do I use?\\n\\nThere are...   \n...           ...                                                ...   \n8808      5878697  How do I remove blank elements from an array?\\...   \n8809      7054972  Java system properties and environment variabl...   \n8810      7785374  How to prevent column break within an element?...   \n8811      8996852  load and execute order of scripts\\n\\nThere are...   \n8812     10146080  Ternary operation in CoffeeScript\\n\\nI need to...   \n\n                                           human_answer  \\\n0     You are a victim of branch prediction fail.\\n\\...   \n1     Undo a commit & redo\\n$ git commit -m \"Somethi...   \n2     Executive Summary\\ngit push -d <remote_name> <...   \n3     In the simplest terms, git pull does a git fet...   \n4     For JSON text:\\napplication/json\\n\\n\\nThe MIME...   \n...                                                 ...   \n8808  There are many ways to do this, one is reject\\...   \n8809  I think the difference between the two boils d...   \n8810  The correct way to do this is with the break-i...   \n8811  If you aren't dynamically loading scripts or m...   \n8812  Since everything is an expression, and thus re...   \n\n                                              ai_answer  \n0     \\nThe reason processing a sorted array is fast...  \n1     \\nThe easiest way to undo the most recent loca...  \n2     \\n1. Delete the local branch:\\ngit branch -d <...  \n3     \\nGit pull is a combination of git fetch and g...  \n4     \\nThe most widely used and supported JSON cont...  \n...                                                 ...  \n8808  \\nYes, you can use the Array.filter() method t...  \n8809  \\nSystem properties (System.getProperties()) a...  \n8810  \\nTo prevent the column break within an elemen...  \n8811  \\n[1]\\nThe order of scripts in the <head> tag ...  \n8812  \\na = (true ? 5 : 10) # => a = 5\\na = (false ?...  \n\n[8813 rows x 4 columns]",
      "text/html": "<div>\n<style scoped>\n    .dataframe tbody tr th:only-of-type {\n        vertical-align: middle;\n    }\n\n    .dataframe tbody tr th {\n        vertical-align: top;\n    }\n\n    .dataframe thead th {\n        text-align: right;\n    }\n</style>\n<table border=\"1\" class=\"dataframe\">\n  <thead>\n    <tr style=\"text-align: right;\">\n      <th></th>\n      <th>question_id</th>\n      <th>question</th>\n      <th>human_answer</th>\n      <th>ai_answer</th>\n    </tr>\n  </thead>\n  <tbody>\n    <tr>\n      <th>0</th>\n      <td>11227809</td>\n      <td>Why is processing a sorted array faster than p...</td>\n      <td>You are a victim of branch prediction fail.\\n\\...</td>\n      <td>\\nThe reason processing a sorted array is fast...</td>\n    </tr>\n    <tr>\n      <th>1</th>\n      <td>927358</td>\n      <td>How do I undo the most recent local commits in...</td>\n      <td>Undo a commit &amp; redo\\n$ git commit -m \"Somethi...</td>\n      <td>\\nThe easiest way to undo the most recent loca...</td>\n    </tr>\n    <tr>\n      <th>2</th>\n      <td>2003505</td>\n      <td>How do I delete a Git branch locally and remot...</td>\n      <td>Executive Summary\\ngit push -d &lt;remote_name&gt; &lt;...</td>\n      <td>\\n1. Delete the local branch:\\ngit branch -d &lt;...</td>\n    </tr>\n    <tr>\n      <th>3</th>\n      <td>292357</td>\n      <td>What is the difference between 'git pull' and ...</td>\n      <td>In the simplest terms, git pull does a git fet...</td>\n      <td>\\nGit pull is a combination of git fetch and g...</td>\n    </tr>\n    <tr>\n      <th>4</th>\n      <td>477816</td>\n      <td>Which JSON content type do I use?\\n\\nThere are...</td>\n      <td>For JSON text:\\napplication/json\\n\\n\\nThe MIME...</td>\n      <td>\\nThe most widely used and supported JSON cont...</td>\n    </tr>\n    <tr>\n      <th>...</th>\n      <td>...</td>\n      <td>...</td>\n      <td>...</td>\n      <td>...</td>\n    </tr>\n    <tr>\n      <th>8808</th>\n      <td>5878697</td>\n      <td>How do I remove blank elements from an array?\\...</td>\n      <td>There are many ways to do this, one is reject\\...</td>\n      <td>\\nYes, you can use the Array.filter() method t...</td>\n    </tr>\n    <tr>\n      <th>8809</th>\n      <td>7054972</td>\n      <td>Java system properties and environment variabl...</td>\n      <td>I think the difference between the two boils d...</td>\n      <td>\\nSystem properties (System.getProperties()) a...</td>\n    </tr>\n    <tr>\n      <th>8810</th>\n      <td>7785374</td>\n      <td>How to prevent column break within an element?...</td>\n      <td>The correct way to do this is with the break-i...</td>\n      <td>\\nTo prevent the column break within an elemen...</td>\n    </tr>\n    <tr>\n      <th>8811</th>\n      <td>8996852</td>\n      <td>load and execute order of scripts\\n\\nThere are...</td>\n      <td>If you aren't dynamically loading scripts or m...</td>\n      <td>\\n[1]\\nThe order of scripts in the &lt;head&gt; tag ...</td>\n    </tr>\n    <tr>\n      <th>8812</th>\n      <td>10146080</td>\n      <td>Ternary operation in CoffeeScript\\n\\nI need to...</td>\n      <td>Since everything is an expression, and thus re...</td>\n      <td>\\na = (true ? 5 : 10) # =&gt; a = 5\\na = (false ?...</td>\n    </tr>\n  </tbody>\n</table>\n<p>8813 rows × 4 columns</p>\n</div>"
     },
     "execution_count": 48,
     "metadata": {},
     "output_type": "execute_result"
    }
   ],
   "source": [
    "data = pd.read_json(\"data/data.jsonl\", lines=True)\n",
    "data"
   ]
  },
  {
   "cell_type": "markdown",
   "metadata": {},
   "source": [
    "We immediately see, that ai answers tend to start with newline, so let's strip whitespaces from both answers columns"
   ]
  },
  {
   "cell_type": "code",
   "execution_count": 49,
   "metadata": {
    "collapsed": false,
    "jupyter": {
     "outputs_hidden": false
    }
   },
   "outputs": [],
   "source": [
    "data.human_answer = data.human_answer.str.strip()\n",
    "data.ai_answer = data.ai_answer.str.strip()"
   ]
  },
  {
   "cell_type": "markdown",
   "metadata": {},
   "source": [
    "## Removing duplicates"
   ]
  },
  {
   "cell_type": "code",
   "execution_count": 50,
   "metadata": {},
   "outputs": [
    {
     "data": {
      "text/plain": "30"
     },
     "execution_count": 50,
     "metadata": {},
     "output_type": "execute_result"
    }
   ],
   "source": [
    "data.duplicated(subset='question_id').sum()"
   ]
  },
  {
   "cell_type": "code",
   "execution_count": 51,
   "metadata": {},
   "outputs": [],
   "source": [
    "data = data.drop_duplicates(subset=['question_id'], keep='last')"
   ]
  },
  {
   "cell_type": "markdown",
   "metadata": {},
   "source": [
    "## Length of the answers\n",
    "Length of human- and ai-produced answers might differ. We don't want to rely on this fact too much"
   ]
  },
  {
   "cell_type": "code",
   "execution_count": 52,
   "metadata": {},
   "outputs": [
    {
     "data": {
      "text/plain": "(7987, 5045)"
     },
     "execution_count": 52,
     "metadata": {},
     "output_type": "execute_result"
    }
   ],
   "source": [
    "max(data.human_answer.str.len()), max(data.ai_answer.str.len())"
   ]
  },
  {
   "cell_type": "markdown",
   "metadata": {},
   "source": [
    "Let's limit lengths of the answers to the same max value"
   ]
  },
  {
   "cell_type": "code",
   "execution_count": 53,
   "metadata": {},
   "outputs": [
    {
     "data": {
      "text/plain": "(5045, 5045)"
     },
     "execution_count": 53,
     "metadata": {},
     "output_type": "execute_result"
    }
   ],
   "source": [
    "data = data[data.human_answer.str.len() <= max(data.ai_answer.str.len())]\n",
    "data = data.reset_index()\n",
    "max(data.human_answer.str.len()), max(data.ai_answer.str.len())"
   ]
  },
  {
   "cell_type": "markdown",
   "metadata": {},
   "source": [
    "Now we need to split the data into two parts, keeping only human answers in one and only ai answers in another. We should take care not to have the same reset_indextwice in the dataset, otherwise we risk overfitting"
   ]
  },
  {
   "cell_type": "code",
   "execution_count": 54,
   "metadata": {
    "collapsed": false,
    "jupyter": {
     "outputs_hidden": false
    }
   },
   "outputs": [],
   "source": [
    "ai_data = data.iloc[::2] # even rows\n",
    "\n",
    "ai_data = ai_data.rename(columns={'ai_answer': 'answer'})\n",
    "ai_data = ai_data.drop('human_answer', axis=1)\n",
    "ai_data['target'] = 1\n",
    "\n",
    "human_data = data.iloc[1::2] # odd rows\n",
    "\n",
    "human_data = human_data.rename(columns={'human_answer': 'answer'})\n",
    "human_data = human_data.drop('ai_answer', axis=1)\n",
    "human_data['target'] = 0"
   ]
  },
  {
   "cell_type": "markdown",
   "metadata": {},
   "source": [
    "Now we merge them back into one labeled dataframe"
   ]
  },
  {
   "cell_type": "code",
   "execution_count": 55,
   "metadata": {
    "collapsed": false,
    "jupyter": {
     "outputs_hidden": false
    }
   },
   "outputs": [
    {
     "data": {
      "text/plain": "      index  question_id                                           question  \\\n0         1       927358  How do I undo the most recent local commits in...   \n1         2      2003505  How do I delete a Git branch locally and remot...   \n2         3       292357  What is the difference between 'git pull' and ...   \n3         4       477816  Which JSON content type do I use?\\n\\nThere are...   \n4         5      5767325  How can I remove a specific item from an array...   \n...     ...          ...                                                ...   \n8603   8807      5143769  How do I check if a given Python string is a s...   \n8604   8808      5878697  How do I remove blank elements from an array?\\...   \n8605   8809      7054972  Java system properties and environment variabl...   \n8606   8810      7785374  How to prevent column break within an element?...   \n8607   8812     10146080  Ternary operation in CoffeeScript\\n\\nI need to...   \n\n                                                 answer  target  \n0     The easiest way to undo the most recent local ...       1  \n1     Executive Summary\\ngit push -d <remote_name> <...       0  \n2     Git pull is a combination of git fetch and git...       1  \n3     For JSON text:\\napplication/json\\n\\n\\nThe MIME...       0  \n4     You can use the Array.prototype.filter() metho...       1  \n...                                                 ...     ...  \n8603  Try using in like this:\\n\\n>>> x = 'hello'\\n>>...       0  \n8604  Yes, you can use the Array.filter() method to ...       1  \n8605  I think the difference between the two boils d...       0  \n8606  To prevent the column break within an element,...       1  \n8607  Since everything is an expression, and thus re...       0  \n\n[8608 rows x 5 columns]",
      "text/html": "<div>\n<style scoped>\n    .dataframe tbody tr th:only-of-type {\n        vertical-align: middle;\n    }\n\n    .dataframe tbody tr th {\n        vertical-align: top;\n    }\n\n    .dataframe thead th {\n        text-align: right;\n    }\n</style>\n<table border=\"1\" class=\"dataframe\">\n  <thead>\n    <tr style=\"text-align: right;\">\n      <th></th>\n      <th>index</th>\n      <th>question_id</th>\n      <th>question</th>\n      <th>answer</th>\n      <th>target</th>\n    </tr>\n  </thead>\n  <tbody>\n    <tr>\n      <th>0</th>\n      <td>1</td>\n      <td>927358</td>\n      <td>How do I undo the most recent local commits in...</td>\n      <td>The easiest way to undo the most recent local ...</td>\n      <td>1</td>\n    </tr>\n    <tr>\n      <th>1</th>\n      <td>2</td>\n      <td>2003505</td>\n      <td>How do I delete a Git branch locally and remot...</td>\n      <td>Executive Summary\\ngit push -d &lt;remote_name&gt; &lt;...</td>\n      <td>0</td>\n    </tr>\n    <tr>\n      <th>2</th>\n      <td>3</td>\n      <td>292357</td>\n      <td>What is the difference between 'git pull' and ...</td>\n      <td>Git pull is a combination of git fetch and git...</td>\n      <td>1</td>\n    </tr>\n    <tr>\n      <th>3</th>\n      <td>4</td>\n      <td>477816</td>\n      <td>Which JSON content type do I use?\\n\\nThere are...</td>\n      <td>For JSON text:\\napplication/json\\n\\n\\nThe MIME...</td>\n      <td>0</td>\n    </tr>\n    <tr>\n      <th>4</th>\n      <td>5</td>\n      <td>5767325</td>\n      <td>How can I remove a specific item from an array...</td>\n      <td>You can use the Array.prototype.filter() metho...</td>\n      <td>1</td>\n    </tr>\n    <tr>\n      <th>...</th>\n      <td>...</td>\n      <td>...</td>\n      <td>...</td>\n      <td>...</td>\n      <td>...</td>\n    </tr>\n    <tr>\n      <th>8603</th>\n      <td>8807</td>\n      <td>5143769</td>\n      <td>How do I check if a given Python string is a s...</td>\n      <td>Try using in like this:\\n\\n&gt;&gt;&gt; x = 'hello'\\n&gt;&gt;...</td>\n      <td>0</td>\n    </tr>\n    <tr>\n      <th>8604</th>\n      <td>8808</td>\n      <td>5878697</td>\n      <td>How do I remove blank elements from an array?\\...</td>\n      <td>Yes, you can use the Array.filter() method to ...</td>\n      <td>1</td>\n    </tr>\n    <tr>\n      <th>8605</th>\n      <td>8809</td>\n      <td>7054972</td>\n      <td>Java system properties and environment variabl...</td>\n      <td>I think the difference between the two boils d...</td>\n      <td>0</td>\n    </tr>\n    <tr>\n      <th>8606</th>\n      <td>8810</td>\n      <td>7785374</td>\n      <td>How to prevent column break within an element?...</td>\n      <td>To prevent the column break within an element,...</td>\n      <td>1</td>\n    </tr>\n    <tr>\n      <th>8607</th>\n      <td>8812</td>\n      <td>10146080</td>\n      <td>Ternary operation in CoffeeScript\\n\\nI need to...</td>\n      <td>Since everything is an expression, and thus re...</td>\n      <td>0</td>\n    </tr>\n  </tbody>\n</table>\n<p>8608 rows × 5 columns</p>\n</div>"
     },
     "execution_count": 55,
     "metadata": {},
     "output_type": "execute_result"
    }
   ],
   "source": [
    "labeled_data = pd.concat([ai_data, human_data]).sort_index()\n",
    "labeled_data"
   ]
  },
  {
   "cell_type": "markdown",
   "metadata": {},
   "source": [
    "Let's double check we don't have question duplicates:"
   ]
  },
  {
   "cell_type": "code",
   "execution_count": 56,
   "metadata": {
    "collapsed": false,
    "jupyter": {
     "outputs_hidden": false
    }
   },
   "outputs": [
    {
     "data": {
      "text/plain": "0"
     },
     "execution_count": 56,
     "metadata": {},
     "output_type": "execute_result"
    }
   ],
   "source": [
    "labeled_data.duplicated(subset='question_id').sum()"
   ]
  },
  {
   "cell_type": "markdown",
   "metadata": {},
   "source": [
    "## Tokenizing questions and answers\n",
    "To handle the text data it's convenient to tokenize it, i.e. split into separate words (tokens). We'll also immediately stem the tokens, so that different forms of the same word become a single token"
   ]
  },
  {
   "cell_type": "code",
   "execution_count": 57,
   "metadata": {
    "collapsed": false,
    "jupyter": {
     "outputs_hidden": false
    }
   },
   "outputs": [],
   "source": [
    "from nltk.stem import SnowballStemmer"
   ]
  },
  {
   "cell_type": "code",
   "execution_count": 58,
   "metadata": {
    "collapsed": false,
    "jupyter": {
     "outputs_hidden": false
    }
   },
   "outputs": [],
   "source": [
    "stemmer = SnowballStemmer(language='english')"
   ]
  },
  {
   "cell_type": "code",
   "execution_count": 59,
   "metadata": {
    "tags": []
   },
   "outputs": [
    {
     "data": {
      "text/plain": "                                       tokenized_answer  \\\n0     [the, easiest, way, to, undo, the, most, recen...   \n1     [execut, summari, git, push, -d, <remote_name>...   \n2     [git, pull, is, a, combin, of, git, fetch, and...   \n3     [for, json, text:, application/json, the, mime...   \n4     [you, can, use, the, array.prototype.filter(),...   \n...                                                 ...   \n8603  [tri, use, in, like, this:, >>>, x, =, hello, ...   \n8604  [yes,, you, can, use, the, array.filter(), met...   \n8605  [i, think, the, differ, between, the, two, boi...   \n8606  [to, prevent, the, column, break, within, an, ...   \n8607  [sinc, everyth, is, an, expression,, and, thus...   \n\n                                     tokenized_question  \n0     [how, do, i, undo, the, most, recent, local, c...  \n1     [how, do, i, delet, a, git, branch, local, and...  \n2     [what, is, the, differ, between, git, pull, an...  \n3     [which, json, content, type, do, i, use?, ther...  \n4     [how, can, i, remov, a, specif, item, from, an...  \n...                                                 ...  \n8603  [how, do, i, check, if, a, given, python, stri...  \n8604  [how, do, i, remov, blank, element, from, an, ...  \n8605  [java, system, properti, and, environ, variabl...  \n8606  [how, to, prevent, column, break, within, an, ...  \n8607  [ternari, oper, in, coffeescript, i, need, to,...  \n\n[8608 rows x 2 columns]",
      "text/html": "<div>\n<style scoped>\n    .dataframe tbody tr th:only-of-type {\n        vertical-align: middle;\n    }\n\n    .dataframe tbody tr th {\n        vertical-align: top;\n    }\n\n    .dataframe thead th {\n        text-align: right;\n    }\n</style>\n<table border=\"1\" class=\"dataframe\">\n  <thead>\n    <tr style=\"text-align: right;\">\n      <th></th>\n      <th>tokenized_answer</th>\n      <th>tokenized_question</th>\n    </tr>\n  </thead>\n  <tbody>\n    <tr>\n      <th>0</th>\n      <td>[the, easiest, way, to, undo, the, most, recen...</td>\n      <td>[how, do, i, undo, the, most, recent, local, c...</td>\n    </tr>\n    <tr>\n      <th>1</th>\n      <td>[execut, summari, git, push, -d, &lt;remote_name&gt;...</td>\n      <td>[how, do, i, delet, a, git, branch, local, and...</td>\n    </tr>\n    <tr>\n      <th>2</th>\n      <td>[git, pull, is, a, combin, of, git, fetch, and...</td>\n      <td>[what, is, the, differ, between, git, pull, an...</td>\n    </tr>\n    <tr>\n      <th>3</th>\n      <td>[for, json, text:, application/json, the, mime...</td>\n      <td>[which, json, content, type, do, i, use?, ther...</td>\n    </tr>\n    <tr>\n      <th>4</th>\n      <td>[you, can, use, the, array.prototype.filter(),...</td>\n      <td>[how, can, i, remov, a, specif, item, from, an...</td>\n    </tr>\n    <tr>\n      <th>...</th>\n      <td>...</td>\n      <td>...</td>\n    </tr>\n    <tr>\n      <th>8603</th>\n      <td>[tri, use, in, like, this:, &gt;&gt;&gt;, x, =, hello, ...</td>\n      <td>[how, do, i, check, if, a, given, python, stri...</td>\n    </tr>\n    <tr>\n      <th>8604</th>\n      <td>[yes,, you, can, use, the, array.filter(), met...</td>\n      <td>[how, do, i, remov, blank, element, from, an, ...</td>\n    </tr>\n    <tr>\n      <th>8605</th>\n      <td>[i, think, the, differ, between, the, two, boi...</td>\n      <td>[java, system, properti, and, environ, variabl...</td>\n    </tr>\n    <tr>\n      <th>8606</th>\n      <td>[to, prevent, the, column, break, within, an, ...</td>\n      <td>[how, to, prevent, column, break, within, an, ...</td>\n    </tr>\n    <tr>\n      <th>8607</th>\n      <td>[sinc, everyth, is, an, expression,, and, thus...</td>\n      <td>[ternari, oper, in, coffeescript, i, need, to,...</td>\n    </tr>\n  </tbody>\n</table>\n<p>8608 rows × 2 columns</p>\n</div>"
     },
     "execution_count": 59,
     "metadata": {},
     "output_type": "execute_result"
    }
   ],
   "source": [
    "labeled_data['tokenized_answer'] = labeled_data.answer.apply(lambda x: [stemmer.stem(w) for w in x.split()])\n",
    "labeled_data['tokenized_question'] = labeled_data.question.apply(lambda x: [stemmer.stem(w) for w in x.split()])\n",
    "labeled_data[['tokenized_answer', 'tokenized_question']]"
   ]
  },
  {
   "cell_type": "markdown",
   "source": [
    "## Feature Engineering\n",
    "I have several hypotheses about the behaviour of GPT:\n",
    "1. It tends to repeat parts of the question in its answer\n",
    "2. Its own vocabulary is smaller and less variate comparing to average human's\n",
    "3. The size of the answers is less variate than that of humans'\n",
    "\n",
    "Keeping these in mind I'll create several numerical features and later try to train a regression model on them."
   ],
   "metadata": {
    "collapsed": false
   }
  },
  {
   "cell_type": "markdown",
   "source": [
    "### Helpers"
   ],
   "metadata": {
    "collapsed": false
   }
  },
  {
   "cell_type": "code",
   "execution_count": 60,
   "metadata": {},
   "outputs": [],
   "source": [
    "import matplotlib.pyplot as plt\n",
    "\n",
    "def comparation_hist(column, value_name, bins=30):\n",
    "    plt.hist(labeled_data[labeled_data.target==0][column], alpha=0.5, label='Human', bins = 30)\n",
    "    plt.hist(labeled_data[labeled_data.target==1][column], alpha=0.5, label='AI', bins = 30)\n",
    "\n",
    "    # plt.title('Histograms for col1 and col2')\n",
    "    plt.xlabel(value_name)\n",
    "    plt.ylabel('Frequency')\n",
    "    plt.legend()\n",
    "\n",
    "    plt.show()"
   ]
  },
  {
   "cell_type": "markdown",
   "source": [
    "### Feature: Creativity\n",
    "I'm introducing the term creativity to describe how many original words are used in the answer. Hence the feature:\n",
    "* `creativity` - number of all unique words in the answer that are not present in the question, divided by the size of the answer"
   ],
   "metadata": {
    "collapsed": false
   }
  },
  {
   "cell_type": "code",
   "execution_count": 61,
   "outputs": [],
   "source": [
    "labeled_data['new_words'] = labeled_data.apply(lambda x: set([w for w in x.tokenized_answer if w not in x.tokenized_question]), axis=1)\n",
    "labeled_data['creativity'] = labeled_data.apply(lambda x: len(x.new_words) / len(x.tokenized_answer) if len(x.tokenized_answer)>0 else 0, axis=1)"
   ],
   "metadata": {
    "collapsed": false
   }
  },
  {
   "cell_type": "code",
   "execution_count": 62,
   "outputs": [
    {
     "data": {
      "text/plain": "0.48538911531039786"
     },
     "execution_count": 62,
     "metadata": {},
     "output_type": "execute_result"
    }
   ],
   "source": [
    "labeled_data.creativity.mean()"
   ],
   "metadata": {
    "collapsed": false
   }
  },
  {
   "cell_type": "code",
   "execution_count": 63,
   "outputs": [
    {
     "data": {
      "text/plain": "(0.5413628901931097, 0.429415340427686)"
     },
     "execution_count": 63,
     "metadata": {},
     "output_type": "execute_result"
    }
   ],
   "source": [
    "labeled_data[labeled_data.target==0].creativity.mean(), labeled_data[labeled_data.target==1].creativity.mean()\n"
   ],
   "metadata": {
    "collapsed": false
   }
  },
  {
   "cell_type": "code",
   "execution_count": 64,
   "metadata": {
    "collapsed": false,
    "jupyter": {
     "outputs_hidden": false
    }
   },
   "outputs": [
    {
     "data": {
      "text/plain": "<Figure size 640x480 with 1 Axes>",
      "image/png": "[encoded data removed]"
     },
     "metadata": {},
     "output_type": "display_data"
    }
   ],
   "source": [
    "comparation_hist('creativity', 'Creativity')"
   ]
  },
  {
   "cell_type": "markdown",
   "source": [
    "There is obviously a difference in creativity between humans and AI"
   ],
   "metadata": {
    "collapsed": false
   }
  },
  {
   "cell_type": "markdown",
   "source": [
    "### Feature: Vocabulary Size\n",
    "Assuming that number of unique words may be different in human and AI answers, I'm introducing two more features:\n",
    "* `n_unique_words` - number of unique words in the answer\n",
    "* `vocabulary_size` - `unique_words` divided by the size of the tokenized answer"
   ],
   "metadata": {
    "collapsed": false
   }
  },
  {
   "cell_type": "code",
   "execution_count": 65,
   "outputs": [],
   "source": [
    "labeled_data['n_unique_words'] = labeled_data.tokenized_answer.apply(lambda x: len(set(x)))\n",
    "labeled_data['vocabulary_size'] = labeled_data.apply(lambda x: x.n_unique_words / len(x.tokenized_answer) if len(x.tokenized_answer)>0 else 0, axis=1)"
   ],
   "metadata": {
    "collapsed": false
   }
  },
  {
   "cell_type": "code",
   "execution_count": 66,
   "outputs": [
    {
     "data": {
      "text/plain": "<Figure size 640x480 with 1 Axes>",
      "image/png": "[encoded data removed]"
     },
     "metadata": {},
     "output_type": "display_data"
    }
   ],
   "source": [
    "comparation_hist('vocabulary_size', 'Vocabulary')"
   ],
   "metadata": {
    "collapsed": false
   }
  },
  {
   "cell_type": "markdown",
   "source": [
    "This metric doesn't seem to be of any value"
   ],
   "metadata": {
    "collapsed": false
   }
  },
  {
   "cell_type": "markdown",
   "source": [
    "### Feature: Stealing\n",
    "Opposite to creativity, stealing shows how many words sequences were stolen from the question and taken into the answer. I'm breaking questions and answers into n-grams (word sequences of length n) and then find the common ngrams. Then I create two features:\n",
    "\n",
    "* `stealing_strength` - maximum length (number of words) of a stolen ngram\n",
    "* `stealing_frequency` - total number of stolen ngrams divided by number of unique words"
   ],
   "metadata": {
    "collapsed": false
   }
  },
  {
   "cell_type": "code",
   "execution_count": 67,
   "outputs": [],
   "source": [
    "from nltk import everygrams"
   ],
   "metadata": {
    "collapsed": false
   }
  },
  {
   "cell_type": "code",
   "execution_count": 68,
   "outputs": [],
   "source": [
    "def find_stolen_ngrams(record):\n",
    "    ngrams_question = everygrams(record.tokenized_question, min_len=2)\n",
    "    ngrams_answer = everygrams(record.tokenized_answer, min_len=2)\n",
    "    ngrams_set = set(ngrams_question).intersection(ngrams_answer)\n",
    "\n",
    "    for ngram in ngrams_set.copy():\n",
    "        for i in range(len(ngram)):\n",
    "            for j in range(i+1, len(ngram)+1):\n",
    "                if ngram[i:j] in ngrams_set and ngram[i:j] != ngram:\n",
    "                    ngrams_set.discard(ngram[i:j])\n",
    "\n",
    "    return ngrams_set"
   ],
   "metadata": {
    "collapsed": false
   }
  },
  {
   "cell_type": "code",
   "execution_count": 69,
   "outputs": [
    {
     "name": "stdout",
     "output_type": "stream",
     "text": [
      "CPU times: user 2min 34s, sys: 107 ms, total: 2min 34s\n",
      "Wall time: 2min 34s\n"
     ]
    }
   ],
   "source": [
    "%%time\n",
    "labeled_data['stolen_ngrams'] = labeled_data.apply(find_stolen_ngrams, axis=1)"
   ],
   "metadata": {
    "collapsed": false
   }
  },
  {
   "cell_type": "code",
   "execution_count": 70,
   "outputs": [],
   "source": [
    "labeled_data['stealing_strength'] = np.log1p(labeled_data.stolen_ngrams.apply(lambda x: max([len(ngram) for ngram in x]) if len(x) > 0 else 0))"
   ],
   "metadata": {
    "collapsed": false
   }
  },
  {
   "cell_type": "code",
   "execution_count": 71,
   "outputs": [],
   "source": [
    "labeled_data['stealing_frequency'] = np.log1p(labeled_data.apply(lambda x: len(x.stolen_ngrams) / x.n_unique_words if x.n_unique_words > 0 else 0, axis=1))"
   ],
   "metadata": {
    "collapsed": false
   }
  },
  {
   "cell_type": "code",
   "execution_count": 72,
   "outputs": [
    {
     "data": {
      "text/plain": "<Figure size 640x480 with 1 Axes>",
      "image/png": "[encoded data removed]"
     },
     "metadata": {},
     "output_type": "display_data"
    }
   ],
   "source": [
    "comparation_hist('stealing_strength', 'Stealing strength')"
   ],
   "metadata": {
    "collapsed": false
   }
  },
  {
   "cell_type": "code",
   "execution_count": 73,
   "outputs": [
    {
     "data": {
      "text/plain": "<Figure size 640x480 with 1 Axes>",
      "image/png": "[encoded data removed]"
     },
     "metadata": {},
     "output_type": "display_data"
    }
   ],
   "source": [
    "comparation_hist('stealing_frequency', 'Stealing Frequency')"
   ],
   "metadata": {
    "collapsed": false
   }
  },
  {
   "cell_type": "markdown",
   "source": [
    "### Feature: Answer Length\n",
    "Even though I've limited maximum answer length of human- and ai- generated answers, the distribution might still be different. So another feature:\n",
    "* `answer_length`"
   ],
   "metadata": {
    "collapsed": false
   }
  },
  {
   "cell_type": "code",
   "execution_count": 74,
   "metadata": {
    "collapsed": false,
    "jupyter": {
     "outputs_hidden": false
    }
   },
   "outputs": [],
   "source": [
    "labeled_data['answer_length'] = np.log1p(labeled_data.answer.str.len())"
   ]
  },
  {
   "cell_type": "code",
   "execution_count": 75,
   "metadata": {},
   "outputs": [
    {
     "data": {
      "text/plain": "<Figure size 640x480 with 1 Axes>",
      "image/png": "[encoded data removed]"
     },
     "metadata": {},
     "output_type": "display_data"
    }
   ],
   "source": [
    "comparation_hist('answer_length', 'Answer Length')"
   ]
  },
  {
   "cell_type": "markdown",
   "source": [
    "# Training models\n",
    "I'm going to train several models and compare the results:\n",
    "1. Logistic regression on the features I've selected\n",
    "2. Naive Bayes on vectorized answers\n",
    "3. Combination of the previous two in two-layered pipeline"
   ],
   "metadata": {
    "collapsed": false
   }
  },
  {
   "cell_type": "code",
   "execution_count": 76,
   "outputs": [],
   "source": [
    "from sklearn.model_selection import train_test_split\n",
    "from sklearn.model_selection import cross_val_score\n",
    "from sklearn.linear_model import LogisticRegression\n",
    "from sklearn.naive_bayes import ComplementNB\n",
    "from sklearn.feature_extraction.text import CountVectorizer\n",
    "from sklearn.model_selection import GridSearchCV\n",
    "from util.train_util import grid_search\n",
    "from util.plot_util import plot_grid_results"
   ],
   "metadata": {
    "collapsed": false
   }
  },
  {
   "cell_type": "code",
   "execution_count": 77,
   "outputs": [],
   "source": [
    "selected_features = ['creativity', 'stealing_strength', 'stealing_frequency', 'answer_length']"
   ],
   "metadata": {
    "collapsed": false
   }
  },
  {
   "cell_type": "markdown",
   "source": [
    "## Data split"
   ],
   "metadata": {
    "collapsed": false
   }
  },
  {
   "cell_type": "code",
   "execution_count": 78,
   "outputs": [],
   "source": [
    "df_full_train, df_test = train_test_split(labeled_data, test_size=0.2, random_state=30)"
   ],
   "metadata": {
    "collapsed": false
   }
  },
  {
   "cell_type": "markdown",
   "source": [
    "## Logistic regression"
   ],
   "metadata": {
    "collapsed": false
   }
  },
  {
   "cell_type": "code",
   "execution_count": 79,
   "metadata": {},
   "outputs": [
    {
     "data": {
      "text/plain": "0.7929025030439328"
     },
     "execution_count": 79,
     "metadata": {},
     "output_type": "execute_result"
    }
   ],
   "source": [
    "lr = LogisticRegression()\n",
    "score = cross_val_score(lr, df_full_train[selected_features], df_full_train.target, scoring='f1').mean()\n",
    "score"
   ]
  },
  {
   "cell_type": "code",
   "execution_count": 80,
   "outputs": [
    {
     "name": "stdout",
     "output_type": "stream",
     "text": [
      "Tuned Hyperparameters: {'C': 10.0, 'solver': 'lbfgs'}\n",
      "F1 score : 0.7952249498777714\n"
     ]
    }
   ],
   "source": [
    "lr_tuning_grid = {\n",
    "    'C': np.logspace(-3,2,6),\n",
    "    'solver': ['lbfgs', 'liblinear', 'sag']\n",
    "}\n",
    "grid_search_results = grid_search(lr, lr_tuning_grid, df_full_train[selected_features], df_full_train.target)"
   ],
   "metadata": {
    "collapsed": false
   }
  },
  {
   "cell_type": "code",
   "execution_count": 81,
   "outputs": [
    {
     "data": {
      "text/plain": "<Figure size 640x480 with 1 Axes>",
      "image/png": "[encoded data removed]"
     },
     "metadata": {},
     "output_type": "display_data"
    }
   ],
   "source": [
    "plot_grid_results(grid_search_results, x_var='C')"
   ],
   "metadata": {
    "collapsed": false
   }
  },
  {
   "cell_type": "markdown",
   "source": [
    "## Naive Bayes"
   ],
   "metadata": {
    "collapsed": false
   }
  },
  {
   "cell_type": "code",
   "execution_count": 82,
   "metadata": {},
   "outputs": [
    {
     "data": {
      "text/plain": "(6886, 3487)"
     },
     "execution_count": 82,
     "metadata": {},
     "output_type": "execute_result"
    }
   ],
   "source": [
    "count_vectorizer = CountVectorizer(min_df=10, analyzer=lambda x: x)\n",
    "vectors = count_vectorizer.fit_transform(df_full_train.tokenized_answer)\n",
    "vectors.shape"
   ]
  },
  {
   "cell_type": "code",
   "execution_count": 83,
   "metadata": {},
   "outputs": [
    {
     "data": {
      "text/plain": "0.8582001705391262"
     },
     "execution_count": 83,
     "metadata": {},
     "output_type": "execute_result"
    }
   ],
   "source": [
    "nb = ComplementNB()\n",
    "score = cross_val_score(nb, vectors, df_full_train.target, scoring='f1').mean()\n",
    "score"
   ]
  },
  {
   "cell_type": "code",
   "execution_count": 84,
   "outputs": [
    {
     "name": "stdout",
     "output_type": "stream",
     "text": [
      "Tuned Hyperparameters: {'alpha': 1.0}\n",
      "F1 score : 0.8582001705391262\n"
     ]
    }
   ],
   "source": [
    "nb_tuning_grid = {\n",
    "    'alpha': np.logspace(-3,2,6)\n",
    "}\n",
    "\n",
    "grid_search_results = grid_search(nb, nb_tuning_grid, vectors, df_full_train.target)"
   ],
   "metadata": {
    "collapsed": false
   }
  },
  {
   "cell_type": "markdown",
   "metadata": {},
   "source": [
    "## 2-Layered Pipeline\n",
    " Both Naive Bayes and Logistic Regression show good results. At the same time they use different aspects of data, so maybe it's possible to make them enhance each other.\n",
    "So I plan to do the following:\n",
    "1. Vectorize the `answer` column and train Naive Bayes on it\n",
    "2. Apply Naive Bayes to the rows to predict probability `predict_proba()`.\n",
    "3. Add this probability as another numerical feature to the data_frame\n",
    "4. Combine this probability with `selected_features` and train Logistic Regression on the new set of numerical features"
   ]
  },
  {
   "cell_type": "code",
   "execution_count": 85,
   "metadata": {},
   "outputs": [],
   "source": [
    "from sklearn.pipeline import Pipeline\n",
    "from sklearn.metrics import f1_score\n",
    "from sklearn.base import BaseEstimator, TransformerMixin\n",
    "from sklearn.naive_bayes import ComplementNB\n",
    "from sklearn.compose import ColumnTransformer"
   ]
  },
  {
   "cell_type": "code",
   "execution_count": 86,
   "outputs": [],
   "source": [
    "X_train = df_full_train[['tokenized_answer'] + selected_features]\n",
    "y_train = df_full_train.target\n",
    "X_test = df_test[['tokenized_answer'] + selected_features]\n",
    "y_test = df_test.target"
   ],
   "metadata": {
    "collapsed": false
   }
  },
  {
   "cell_type": "markdown",
   "source": [
    "In order to do this trick, I need a custom transformer that wraps the Naive Bayes classifier and uses `predict_proba` in the `transform` method"
   ],
   "metadata": {
    "collapsed": false
   }
  },
  {
   "cell_type": "code",
   "execution_count": 87,
   "metadata": {
    "tags": []
   },
   "outputs": [],
   "source": [
    "class ComplementNBTransformer(BaseEstimator, TransformerMixin):\n",
    "    def __init__(self):\n",
    "        self.clf = ComplementNB()\n",
    "\n",
    "    def fit(self, X, y):\n",
    "        self.clf.fit(X, y)\n",
    "        return self\n",
    "\n",
    "    def transform(self, X):\n",
    "        probas = self.clf.predict_proba(X)\n",
    "        return pd.DataFrame(np.array([x[1] for x in probas]), columns=['nb_probability'])"
   ]
  },
  {
   "cell_type": "markdown",
   "source": [
    "Now I'm creating the pipeline that implements the plan:"
   ],
   "metadata": {
    "collapsed": false
   }
  },
  {
   "cell_type": "code",
   "execution_count": 88,
   "outputs": [
    {
     "data": {
      "text/plain": "0.8949596334355041"
     },
     "execution_count": 88,
     "metadata": {},
     "output_type": "execute_result"
    }
   ],
   "source": [
    "nb_pipe = Pipeline([('c_vect', CountVectorizer(min_df=10, analyzer=lambda x: x)),\n",
    "                     ('nb_proba', ComplementNBTransformer())])\n",
    "\n",
    "columns = [('nb_pipe', nb_pipe, 'tokenized_answer')]\n",
    "\n",
    "col_trans = ColumnTransformer(columns, remainder = 'passthrough') # the `remainder` part ensures that `selected_features` are passed down the pipeline and later combined with the outpuc of nb_pipe\n",
    "\n",
    "full_pipe = Pipeline([('proba', col_trans),\n",
    "                     ('lr', LogisticRegression(C=10.0, solver='lbfgs'))])\n",
    "\n",
    "cross_val_score(full_pipe, X_train, y_train, scoring='f1').mean()"
   ],
   "metadata": {
    "collapsed": false
   }
  },
  {
   "cell_type": "markdown",
   "source": [
    "### Fine tuning the pipeline\n",
    "Parameters of Naive Bayes and Logistic Regression have already been tuned, so here I'm only tuning the `min_df` parameter of CountVectorizer:"
   ],
   "metadata": {
    "collapsed": false
   }
  },
  {
   "cell_type": "code",
   "execution_count": 89,
   "metadata": {},
   "outputs": [
    {
     "name": "stdout",
     "output_type": "stream",
     "text": [
      "Tuned Hyperparameters: {'proba__nb_pipe__c_vect__min_df': 7}\n",
      "F1 score : 0.8983049062857453\n"
     ]
    }
   ],
   "source": [
    "pipe_tuning_grid = {\n",
    "    'proba__nb_pipe__c_vect__min_df': range(5, 16)\n",
    "}\n",
    "grid_search_results = grid_search(full_pipe, pipe_tuning_grid, X_train, y_train)"
   ]
  },
  {
   "cell_type": "code",
   "execution_count": 90,
   "outputs": [
    {
     "data": {
      "text/plain": "<Figure size 640x480 with 1 Axes>",
      "image/png": "[encoded data removed]"
     },
     "metadata": {},
     "output_type": "display_data"
    }
   ],
   "source": [
    "plot_grid_results(grid_search_results, x_var='proba__nb_pipe__c_vect__min_df')"
   ],
   "metadata": {
    "collapsed": false
   }
  },
  {
   "cell_type": "code",
   "execution_count": 91,
   "outputs": [
    {
     "data": {
      "text/plain": "Pipeline(steps=[('proba',\n                 ColumnTransformer(remainder='passthrough',\n                                   transformers=[('nb_pipe',\n                                                  Pipeline(steps=[('c_vect',\n                                                                   CountVectorizer(analyzer=<function <lambda> at 0x7fa5df9737f0>,\n                                                                                   min_df=7)),\n                                                                  ('nb_proba',\n                                                                   ComplementNBTransformer())]),\n                                                  'tokenized_answer')])),\n                ('lr', LogisticRegression(C=10.0))])",
      "text/html": "<style>#sk-container-id-2 {color: black;background-color: white;}#sk-container-id-2 pre{padding: 0;}#sk-container-id-2 div.sk-toggleable {background-color: white;}#sk-container-id-2 label.sk-toggleable__label {cursor: pointer;display: block;width: 100%;margin-bottom: 0;padding: 0.3em;box-sizing: border-box;text-align: center;}#sk-container-id-2 label.sk-toggleable__label-arrow:before {content: \"▸\";float: left;margin-right: 0.25em;color: #696969;}#sk-container-id-2 label.sk-toggleable__label-arrow:hover:before {color: black;}#sk-container-id-2 div.sk-estimator:hover label.sk-toggleable__label-arrow:before {color: black;}#sk-container-id-2 div.sk-toggleable__content {max-height: 0;max-width: 0;overflow: hidden;text-align: left;background-color: #f0f8ff;}#sk-container-id-2 div.sk-toggleable__content pre {margin: 0.2em;color: black;border-radius: 0.25em;background-color: #f0f8ff;}#sk-container-id-2 input.sk-toggleable__control:checked~div.sk-toggleable__content {max-height: 200px;max-width: 100%;overflow: auto;}#sk-container-id-2 input.sk-toggleable__control:checked~label.sk-toggleable__label-arrow:before {content: \"▾\";}#sk-container-id-2 div.sk-estimator input.sk-toggleable__control:checked~label.sk-toggleable__label {background-color: #d4ebff;}#sk-container-id-2 div.sk-label input.sk-toggleable__control:checked~label.sk-toggleable__label {background-color: #d4ebff;}#sk-container-id-2 input.sk-hidden--visually {border: 0;clip: rect(1px 1px 1px 1px);clip: rect(1px, 1px, 1px, 1px);height: 1px;margin: -1px;overflow: hidden;padding: 0;position: absolute;width: 1px;}#sk-container-id-2 div.sk-estimator {font-family: monospace;background-color: #f0f8ff;border: 1px dotted black;border-radius: 0.25em;box-sizing: border-box;margin-bottom: 0.5em;}#sk-container-id-2 div.sk-estimator:hover {background-color: #d4ebff;}#sk-container-id-2 div.sk-parallel-item::after {content: \"\";width: 100%;border-bottom: 1px solid gray;flex-grow: 1;}#sk-container-id-2 div.sk-label:hover label.sk-toggleable__label {background-color: #d4ebff;}#sk-container-id-2 div.sk-serial::before {content: \"\";position: absolute;border-left: 1px solid gray;box-sizing: border-box;top: 0;bottom: 0;left: 50%;z-index: 0;}#sk-container-id-2 div.sk-serial {display: flex;flex-direction: column;align-items: center;background-color: white;padding-right: 0.2em;padding-left: 0.2em;position: relative;}#sk-container-id-2 div.sk-item {position: relative;z-index: 1;}#sk-container-id-2 div.sk-parallel {display: flex;align-items: stretch;justify-content: center;background-color: white;position: relative;}#sk-container-id-2 div.sk-item::before, #sk-container-id-2 div.sk-parallel-item::before {content: \"\";position: absolute;border-left: 1px solid gray;box-sizing: border-box;top: 0;bottom: 0;left: 50%;z-index: -1;}#sk-container-id-2 div.sk-parallel-item {display: flex;flex-direction: column;z-index: 1;position: relative;background-color: white;}#sk-container-id-2 div.sk-parallel-item:first-child::after {align-self: flex-end;width: 50%;}#sk-container-id-2 div.sk-parallel-item:last-child::after {align-self: flex-start;width: 50%;}#sk-container-id-2 div.sk-parallel-item:only-child::after {width: 0;}#sk-container-id-2 div.sk-dashed-wrapped {border: 1px dashed gray;margin: 0 0.4em 0.5em 0.4em;box-sizing: border-box;padding-bottom: 0.4em;background-color: white;}#sk-container-id-2 div.sk-label label {font-family: monospace;font-weight: bold;display: inline-block;line-height: 1.2em;}#sk-container-id-2 div.sk-label-container {text-align: center;}#sk-container-id-2 div.sk-container {/* jupyter's `normalize.less` sets `[hidden] { display: none; }` but bootstrap.min.css set `[hidden] { display: none !important; }` so we also need the `!important` here to be able to override the default hidden behavior on the sphinx rendered scikit-learn.org. See: https://github.com/scikit-learn/scikit-learn/issues/21755 */display: inline-block !important;position: relative;}#sk-container-id-2 div.sk-text-repr-fallback {display: none;}</style><div id=\"sk-container-id-2\" class=\"sk-top-container\"><div class=\"sk-text-repr-fallback\"><pre>Pipeline(steps=[(&#x27;proba&#x27;,\n                 ColumnTransformer(remainder=&#x27;passthrough&#x27;,\n                                   transformers=[(&#x27;nb_pipe&#x27;,\n                                                  Pipeline(steps=[(&#x27;c_vect&#x27;,\n                                                                   CountVectorizer(analyzer=&lt;function &lt;lambda&gt; at 0x7fa5df9737f0&gt;,\n                                                                                   min_df=7)),\n                                                                  (&#x27;nb_proba&#x27;,\n                                                                   ComplementNBTransformer())]),\n                                                  &#x27;tokenized_answer&#x27;)])),\n                (&#x27;lr&#x27;, LogisticRegression(C=10.0))])</pre><b>In a Jupyter environment, please rerun this cell to show the HTML representation or trust the notebook. <br />On GitHub, the HTML representation is unable to render, please try loading this page with nbviewer.org.</b></div><div class=\"sk-container\" hidden><div class=\"sk-item sk-dashed-wrapped\"><div class=\"sk-label-container\"><div class=\"sk-label sk-toggleable\"><input class=\"sk-toggleable__control sk-hidden--visually\" id=\"sk-estimator-id-9\" type=\"checkbox\" ><label for=\"sk-estimator-id-9\" class=\"sk-toggleable__label sk-toggleable__label-arrow\">Pipeline</label><div class=\"sk-toggleable__content\"><pre>Pipeline(steps=[(&#x27;proba&#x27;,\n                 ColumnTransformer(remainder=&#x27;passthrough&#x27;,\n                                   transformers=[(&#x27;nb_pipe&#x27;,\n                                                  Pipeline(steps=[(&#x27;c_vect&#x27;,\n                                                                   CountVectorizer(analyzer=&lt;function &lt;lambda&gt; at 0x7fa5df9737f0&gt;,\n                                                                                   min_df=7)),\n                                                                  (&#x27;nb_proba&#x27;,\n                                                                   ComplementNBTransformer())]),\n                                                  &#x27;tokenized_answer&#x27;)])),\n                (&#x27;lr&#x27;, LogisticRegression(C=10.0))])</pre></div></div></div><div class=\"sk-serial\"><div class=\"sk-item sk-dashed-wrapped\"><div class=\"sk-label-container\"><div class=\"sk-label sk-toggleable\"><input class=\"sk-toggleable__control sk-hidden--visually\" id=\"sk-estimator-id-10\" type=\"checkbox\" ><label for=\"sk-estimator-id-10\" class=\"sk-toggleable__label sk-toggleable__label-arrow\">proba: ColumnTransformer</label><div class=\"sk-toggleable__content\"><pre>ColumnTransformer(remainder=&#x27;passthrough&#x27;,\n                  transformers=[(&#x27;nb_pipe&#x27;,\n                                 Pipeline(steps=[(&#x27;c_vect&#x27;,\n                                                  CountVectorizer(analyzer=&lt;function &lt;lambda&gt; at 0x7fa5df9737f0&gt;,\n                                                                  min_df=7)),\n                                                 (&#x27;nb_proba&#x27;,\n                                                  ComplementNBTransformer())]),\n                                 &#x27;tokenized_answer&#x27;)])</pre></div></div></div><div class=\"sk-parallel\"><div class=\"sk-parallel-item\"><div class=\"sk-item\"><div class=\"sk-label-container\"><div class=\"sk-label sk-toggleable\"><input class=\"sk-toggleable__control sk-hidden--visually\" id=\"sk-estimator-id-11\" type=\"checkbox\" ><label for=\"sk-estimator-id-11\" class=\"sk-toggleable__label sk-toggleable__label-arrow\">nb_pipe</label><div class=\"sk-toggleable__content\"><pre>tokenized_answer</pre></div></div></div><div class=\"sk-serial\"><div class=\"sk-item\"><div class=\"sk-serial\"><div class=\"sk-item\"><div class=\"sk-estimator sk-toggleable\"><input class=\"sk-toggleable__control sk-hidden--visually\" id=\"sk-estimator-id-12\" type=\"checkbox\" ><label for=\"sk-estimator-id-12\" class=\"sk-toggleable__label sk-toggleable__label-arrow\">CountVectorizer</label><div class=\"sk-toggleable__content\"><pre>CountVectorizer(analyzer=&lt;function &lt;lambda&gt; at 0x7fa5df9737f0&gt;, min_df=7)</pre></div></div></div><div class=\"sk-item\"><div class=\"sk-estimator sk-toggleable\"><input class=\"sk-toggleable__control sk-hidden--visually\" id=\"sk-estimator-id-13\" type=\"checkbox\" ><label for=\"sk-estimator-id-13\" class=\"sk-toggleable__label sk-toggleable__label-arrow\">ComplementNBTransformer</label><div class=\"sk-toggleable__content\"><pre>ComplementNBTransformer()</pre></div></div></div></div></div></div></div></div><div class=\"sk-parallel-item\"><div class=\"sk-item\"><div class=\"sk-label-container\"><div class=\"sk-label sk-toggleable\"><input class=\"sk-toggleable__control sk-hidden--visually\" id=\"sk-estimator-id-14\" type=\"checkbox\" ><label for=\"sk-estimator-id-14\" class=\"sk-toggleable__label sk-toggleable__label-arrow\">remainder</label><div class=\"sk-toggleable__content\"><pre>[&#x27;creativity&#x27;, &#x27;stealing_strength&#x27;, &#x27;stealing_frequency&#x27;, &#x27;answer_length&#x27;]</pre></div></div></div><div class=\"sk-serial\"><div class=\"sk-item\"><div class=\"sk-estimator sk-toggleable\"><input class=\"sk-toggleable__control sk-hidden--visually\" id=\"sk-estimator-id-15\" type=\"checkbox\" ><label for=\"sk-estimator-id-15\" class=\"sk-toggleable__label sk-toggleable__label-arrow\">passthrough</label><div class=\"sk-toggleable__content\"><pre>passthrough</pre></div></div></div></div></div></div></div></div><div class=\"sk-item\"><div class=\"sk-estimator sk-toggleable\"><input class=\"sk-toggleable__control sk-hidden--visually\" id=\"sk-estimator-id-16\" type=\"checkbox\" ><label for=\"sk-estimator-id-16\" class=\"sk-toggleable__label sk-toggleable__label-arrow\">LogisticRegression</label><div class=\"sk-toggleable__content\"><pre>LogisticRegression(C=10.0)</pre></div></div></div></div></div></div></div>"
     },
     "execution_count": 91,
     "metadata": {},
     "output_type": "execute_result"
    }
   ],
   "source": [
    "full_pipe.set_params(**{'proba__nb_pipe__c_vect__min_df': 7})\n",
    "full_pipe.fit(X_train, y_train)"
   ],
   "metadata": {
    "collapsed": false
   }
  },
  {
   "cell_type": "code",
   "execution_count": 92,
   "outputs": [
    {
     "data": {
      "text/plain": "0.8997668997668996"
     },
     "execution_count": 92,
     "metadata": {},
     "output_type": "execute_result"
    }
   ],
   "source": [
    "f1_score(full_pipe.predict(X_test), y_test)"
   ],
   "metadata": {
    "collapsed": false
   }
  }
 ],
 "metadata": {
  "kernelspec": {
   "display_name": "Python 3 (ipykernel)",
   "language": "python",
   "name": "python3"
  },
  "language_info": {
   "codemirror_mode": {
    "name": "ipython",
    "version": 3
   },
   "file_extension": ".py",
   "mimetype": "text/x-python",
   "name": "python",
   "nbconvert_exporter": "python",
   "pygments_lexer": "ipython3",
   "version": "3.10.6"
  }
 },
 "nbformat": 4,
 "nbformat_minor": 4
}
