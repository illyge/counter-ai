{
 "cells": [
  {
   "cell_type": "markdown",
   "source": [
    "# Data preparation\n",
    "Here I\"m cleaning up data from ChatGPT (manually collected by Toloka users) and answers from StackOverflow.\n",
    "Then it is labeled and combined into one dataset to be later used for training"
   ],
   "metadata": {
    "collapsed": false
   }
  },
  {
   "cell_type": "code",
   "execution_count": 15,
   "outputs": [],
   "source": [
    "import pandas as pd\n",
    "import html\n",
    "import re"
   ],
   "metadata": {
    "collapsed": false
   }
  },
  {
   "cell_type": "code",
   "execution_count": 16,
   "outputs": [],
   "source": [
    "def rename_and_concat(dfs):\n",
    "    renamed_columns = {\n",
    "        'INPUT:question_id': 'question_id',\n",
    "        'OUTPUT:answer': 'answer'\n",
    "    }\n",
    "    renamed_dfs = [df.rename(columns=renamed_columns)[renamed_columns.values()].copy() for df in dfs]\n",
    "    return pd.concat(renamed_dfs, ignore_index=True)"
   ],
   "metadata": {
    "collapsed": false
   }
  },
  {
   "cell_type": "code",
   "execution_count": 22,
   "outputs": [
    {
     "name": "stdout",
     "output_type": "stream",
     "text": [
      "2411\n"
     ]
    },
    {
     "data": {
      "text/plain": "      question_id                                             answer\n0         6591213  To rename a local Git branch, you can use the ...\n1          927358  You can use the git reset command to undo the ...\n2          359494  In JavaScript, it is generally recommended to ...\n3         2003505  To delete a local branch, you can use the comm...\n4          100003  In Python, a class is an object that defines t...\n...           ...                                                ...\n2406     26797739  Yes, Swift does have a trimmingCharacters(in:)...\n2407       153890  Yes, there is a way to do this using the print...\n2408     44084846  It seems that the Docker daemon is not running...\n2409      1714297  The setId method sets a unique identifier for ...\n2410     10969953  You can output a multiline string in Bash by u...\n\n[2411 rows x 2 columns]",
      "text/html": "<div>\n<style scoped>\n    .dataframe tbody tr th:only-of-type {\n        vertical-align: middle;\n    }\n\n    .dataframe tbody tr th {\n        vertical-align: top;\n    }\n\n    .dataframe thead th {\n        text-align: right;\n    }\n</style>\n<table border=\"1\" class=\"dataframe\">\n  <thead>\n    <tr style=\"text-align: right;\">\n      <th></th>\n      <th>question_id</th>\n      <th>answer</th>\n    </tr>\n  </thead>\n  <tbody>\n    <tr>\n      <th>0</th>\n      <td>6591213</td>\n      <td>To rename a local Git branch, you can use the ...</td>\n    </tr>\n    <tr>\n      <th>1</th>\n      <td>927358</td>\n      <td>You can use the git reset command to undo the ...</td>\n    </tr>\n    <tr>\n      <th>2</th>\n      <td>359494</td>\n      <td>In JavaScript, it is generally recommended to ...</td>\n    </tr>\n    <tr>\n      <th>3</th>\n      <td>2003505</td>\n      <td>To delete a local branch, you can use the comm...</td>\n    </tr>\n    <tr>\n      <th>4</th>\n      <td>100003</td>\n      <td>In Python, a class is an object that defines t...</td>\n    </tr>\n    <tr>\n      <th>...</th>\n      <td>...</td>\n      <td>...</td>\n    </tr>\n    <tr>\n      <th>2406</th>\n      <td>26797739</td>\n      <td>Yes, Swift does have a trimmingCharacters(in:)...</td>\n    </tr>\n    <tr>\n      <th>2407</th>\n      <td>153890</td>\n      <td>Yes, there is a way to do this using the print...</td>\n    </tr>\n    <tr>\n      <th>2408</th>\n      <td>44084846</td>\n      <td>It seems that the Docker daemon is not running...</td>\n    </tr>\n    <tr>\n      <th>2409</th>\n      <td>1714297</td>\n      <td>The setId method sets a unique identifier for ...</td>\n    </tr>\n    <tr>\n      <th>2410</th>\n      <td>10969953</td>\n      <td>You can output a multiline string in Bash by u...</td>\n    </tr>\n  </tbody>\n</table>\n<p>2411 rows × 2 columns</p>\n</div>"
     },
     "execution_count": 22,
     "metadata": {},
     "output_type": "execute_result"
    }
   ],
   "source": [
    "toloka_answers = rename_and_concat([\n",
    "    pd.read_table(\"./data/toloka/assignments_from_pool_37361170__07-02-2023.tsv\"),\n",
    "    pd.read_table(\"./data/toloka/assignments_from_pool_37593832__07-02-2023.tsv\"),\n",
    "    pd.read_table(\"./data/toloka/assignments_from_pool_37610098__07-02-2023.tsv\"),\n",
    "    pd.read_table(\"./data/toloka/assignments_from_pool_37660279__10-02-2023.tsv\")\n",
    "])\n",
    "\n",
    "print(len(toloka_answers))\n",
    "toloka_answers"
   ],
   "metadata": {
    "collapsed": false
   }
  },
  {
   "cell_type": "code",
   "execution_count": 23,
   "outputs": [
    {
     "data": {
      "text/plain": "2406"
     },
     "execution_count": 23,
     "metadata": {},
     "output_type": "execute_result"
    }
   ],
   "source": [
    "toloka_answers = toloka_answers.drop_duplicates(subset=['question_id'])\n",
    "len(toloka_answers)"
   ],
   "metadata": {
    "collapsed": false
   }
  },
  {
   "cell_type": "code",
   "execution_count": 24,
   "outputs": [
    {
     "data": {
      "text/plain": "javascript     167\npython         113\ncss             97\nbash            95\nphp             62\nscss            53\nsql             51\njava            50\ncsharp          33\nlua             25\nruby            23\ntypescript      20\nvbnet           17\nperl            16\nc               16\nless            15\nkotlin          15\nshell           10\nmakefile         8\ngo               8\nobjectivec       6\nswift            6\ncpp              5\ncommand:         5\nrust             4\nexample:         4\nyaml             4\njson             2\nxml              2\nbranch:          2\nsyntax:          1\nline:            1\nCLI:             1\n80:              1\nfile:            1\ndatabase:        1\ngraphql          1\nExample:         1\npackage:         1\nfunction:        1\nR                1\nGB:              1\nuse:             1\none:             1\nprompt:          1\nGUID:            1\ncommit.          1\nmethod.          1\nloop:            1\nJavaScript:      1\nName: answer, dtype: int64"
     },
     "execution_count": 24,
     "metadata": {},
     "output_type": "execute_result"
    }
   ],
   "source": [
    "vc = toloka_answers[toloka_answers.answer.str.contains(\"Copy code\")].answer.str.split('Copy code').apply(lambda x: x[0]).str.split().apply(lambda x: x[-1]).value_counts()\n",
    "vc.head(50)"
   ],
   "metadata": {
    "collapsed": false
   }
  },
  {
   "cell_type": "code",
   "execution_count": 25,
   "outputs": [],
   "source": [
    "copy_code_prefixed = [\n",
    "    \"javascript\",\n",
    "    \"python\",\n",
    "    \"bash\",\n",
    "    \"css\",\n",
    "    \"php\",\n",
    "    \"sql\",\n",
    "    \"scss\",\n",
    "    \"java\",\n",
    "    \"ruby\",\n",
    "    \"csharp\",\n",
    "    \"lua\",\n",
    "    \"perl\",\n",
    "    \"vbnet\",\n",
    "    \"kotlin\",\n",
    "    \"typescript\",\n",
    "    \"makefile\",\n",
    "    \"c\",\n",
    "    \"shell\",\n",
    "    \"yaml\",\n",
    "    \"less\",\n",
    "    \"rust\",\n",
    "    \"cpp\",\n",
    "    \"go\",\n",
    "    \"objectivec\",\n",
    "    \"swift\",\n",
    "    \"R\",\n",
    "    \"xml\",\n",
    "    \"json\",\n",
    "]"
   ],
   "metadata": {
    "collapsed": false
   }
  },
  {
   "cell_type": "code",
   "execution_count": 26,
   "outputs": [
    {
     "data": {
      "text/plain": "\"There are several ways to deep clone an object in JavaScript, and the most efficient method depends on the specific use case and the size of the object being cloned.\\r\\n\\r\\nOne of the most efficient ways to deep clone an object is to use the Object.assign() method in combination with the spread operator (...). This method creates a new object and copies the properties and values of the original object to the new object. Here's an example:\\r\\n\\r\\n\\r\\nconst originalObject = {a: 1, b: 2, c: {d: 3}};\\r\\nconst clonedObject = {...originalObject};\\r\\nAnother way is to use the JSON.parse(JSON.stringify(obj)) method, which converts the object to a JSON string, and then parses it back into a new object. This method is relatively fast and works well for small to medium-sized objects. However, it has some limitations. It does not work with functions, undefined, Symbol and some other object properties.\\r\\n\\r\\n\\r\\nconst originalObject = {a: 1, b: 2, c: {d: 3}};\\r\\nconst clonedObject = JSON.parse(JSON.stringify(originalObject));\\r\\nA more complex but more versatile option is the use of a recursive copy function. This method is useful when you need to deep clone an object with a complex structure. You can also add some logic to handle certain types of properties like functions, undefined, Symbol and some other object properties\\r\\n\\r\\n\\r\\nfunction deepClone(obj) {\\r\\n    if (obj === null || typeof obj !== 'object') {\\r\\n        return obj;\\r\\n    }\\r\\n  \\r\\n    let copy;\\r\\n    if (Array.isArray(obj)) {\\r\\n        copy = [];\\r\\n        obj.forEach(item => copy.push(deepClone(item)));\\r\\n    } else {\\r\\n        copy = {};\\r\\n        for (const key in obj) {\\r\\n            copy[key] = deepClone(obj[key]);\\r\\n        }\\r\\n    }\\r\\n  \\r\\n    return copy;\\r\\n}\""
     },
     "execution_count": 26,
     "metadata": {},
     "output_type": "execute_result"
    }
   ],
   "source": [
    "stripped_toloka = toloka_answers.copy()\n",
    "stripped_toloka.answer = stripped_toloka.answer.str.replace(\"Copy code\", \"\")\n",
    "stripped_toloka.answer[33]"
   ],
   "metadata": {
    "collapsed": false
   }
  },
  {
   "cell_type": "code",
   "execution_count": 27,
   "outputs": [
    {
     "data": {
      "text/plain": "29207"
     },
     "execution_count": 27,
     "metadata": {},
     "output_type": "execute_result"
    }
   ],
   "source": [
    "raw_human_answers = pd.read_json(\"./data/raw/answers_human/all_answers.jsonl\", lines=True)\n",
    "len(raw_human_answers)"
   ],
   "metadata": {
    "collapsed": false
   }
  },
  {
   "cell_type": "code",
   "execution_count": 28,
   "outputs": [
    {
     "data": {
      "text/plain": "(2406, 3)"
     },
     "execution_count": 28,
     "metadata": {},
     "output_type": "execute_result"
    }
   ],
   "source": [
    "all_answers = raw_human_answers[['question_id', 'body']].rename(columns={'body': 'answer'}).copy()\n",
    "all_answers['target'] = 0\n",
    "all_answers.answer = all_answers.answer.apply(lambda x: html.unescape(re.sub(r'<[^<]+?>', '', x)))\n",
    "all_answers = all_answers.drop_duplicates(subset=['question_id'])\n",
    "all_answers = all_answers[~all_answers.question_id.isin(list(toloka_answers.question_id))]\n",
    "all_answers = all_answers.iloc[:toloka_answers.shape[0]:]\n",
    "all_answers.shape"
   ],
   "metadata": {
    "collapsed": false
   }
  },
  {
   "cell_type": "code",
   "execution_count": 29,
   "outputs": [
    {
     "name": "stderr",
     "output_type": "stream",
     "text": [
      "/tmp/ipykernel_12189/3028745759.py:1: SettingWithCopyWarning: \n",
      "A value is trying to be set on a copy of a slice from a DataFrame.\n",
      "Try using .loc[row_indexer,col_indexer] = value instead\n",
      "\n",
      "See the caveats in the documentation: https://pandas.pydata.org/pandas-docs/stable/user_guide/indexing.html#returning-a-view-versus-a-copy\n",
      "  toloka_answers['target'] = 1\n"
     ]
    },
    {
     "data": {
      "text/plain": "2406"
     },
     "execution_count": 29,
     "metadata": {},
     "output_type": "execute_result"
    }
   ],
   "source": [
    "toloka_answers['target'] = 1\n",
    "toloka_answers.question_id.nunique()"
   ],
   "metadata": {
    "collapsed": false
   }
  },
  {
   "cell_type": "code",
   "execution_count": 30,
   "outputs": [
    {
     "data": {
      "text/plain": "4812"
     },
     "execution_count": 30,
     "metadata": {},
     "output_type": "execute_result"
    }
   ],
   "source": [
    "test_data = pd.concat((all_answers, toloka_answers), ignore_index=True)\n",
    "test_data.question_id.nunique()"
   ],
   "metadata": {
    "collapsed": false
   }
  },
  {
   "cell_type": "code",
   "execution_count": 31,
   "outputs": [],
   "source": [
    "test_data.answer = test_data.answer.str.replace(\"Copy code\", \"\")"
   ],
   "metadata": {
    "collapsed": false
   }
  },
  {
   "cell_type": "code",
   "execution_count": 32,
   "outputs": [
    {
     "data": {
      "text/plain": "      question_id                                             answer  target  \\\n0        11227809  An answer for quick and simple understanding (...       0   \n1          292357  Fetch\\ngit fetch really only downloads new dat...       0   \n2          477816  The most common MIME type is application/json....       0   \n3         5767325  let removeAnElement = (arr, element)=>{\\n    l...       0   \n4          244777  I searched all pages of answers, and none ment...       0   \n...           ...                                                ...     ...   \n4807     26797739  Yes, Swift does have a trimmingCharacters(in:)...       1   \n4808       153890  Yes, there is a way to do this using the print...       1   \n4809     44084846  It seems that the Docker daemon is not running...       1   \n4810      1714297  The setId method sets a unique identifier for ...       1   \n4811     10969953  You can output a multiline string in Bash by u...       1   \n\n                                               question  \n0     Why is processing a sorted array faster than p...  \n1     How do I undo the most recent local commits in...  \n2     How do I delete a Git branch locally and remot...  \n3     What is the difference between 'git pull' and ...  \n4     What does the \"yield\" keyword do?\\n\\nCan I use...  \n...                                                 ...  \n4807  Updating to latest version of CocoaPods?\\n\\nDo...  \n4808  When is assembly faster than C?\\n\\nI'm trying ...  \n4809  What is the difference between Set and List?\\n...  \n4810  Remove all occurrences of a value from a list?...  \n4811  Get the first item from an iterable that match...  \n\n[4812 rows x 4 columns]",
      "text/html": "<div>\n<style scoped>\n    .dataframe tbody tr th:only-of-type {\n        vertical-align: middle;\n    }\n\n    .dataframe tbody tr th {\n        vertical-align: top;\n    }\n\n    .dataframe thead th {\n        text-align: right;\n    }\n</style>\n<table border=\"1\" class=\"dataframe\">\n  <thead>\n    <tr style=\"text-align: right;\">\n      <th></th>\n      <th>question_id</th>\n      <th>answer</th>\n      <th>target</th>\n      <th>question</th>\n    </tr>\n  </thead>\n  <tbody>\n    <tr>\n      <th>0</th>\n      <td>11227809</td>\n      <td>An answer for quick and simple understanding (...</td>\n      <td>0</td>\n      <td>Why is processing a sorted array faster than p...</td>\n    </tr>\n    <tr>\n      <th>1</th>\n      <td>292357</td>\n      <td>Fetch\\ngit fetch really only downloads new dat...</td>\n      <td>0</td>\n      <td>How do I undo the most recent local commits in...</td>\n    </tr>\n    <tr>\n      <th>2</th>\n      <td>477816</td>\n      <td>The most common MIME type is application/json....</td>\n      <td>0</td>\n      <td>How do I delete a Git branch locally and remot...</td>\n    </tr>\n    <tr>\n      <th>3</th>\n      <td>5767325</td>\n      <td>let removeAnElement = (arr, element)=&gt;{\\n    l...</td>\n      <td>0</td>\n      <td>What is the difference between 'git pull' and ...</td>\n    </tr>\n    <tr>\n      <th>4</th>\n      <td>244777</td>\n      <td>I searched all pages of answers, and none ment...</td>\n      <td>0</td>\n      <td>What does the \"yield\" keyword do?\\n\\nCan I use...</td>\n    </tr>\n    <tr>\n      <th>...</th>\n      <td>...</td>\n      <td>...</td>\n      <td>...</td>\n      <td>...</td>\n    </tr>\n    <tr>\n      <th>4807</th>\n      <td>26797739</td>\n      <td>Yes, Swift does have a trimmingCharacters(in:)...</td>\n      <td>1</td>\n      <td>Updating to latest version of CocoaPods?\\n\\nDo...</td>\n    </tr>\n    <tr>\n      <th>4808</th>\n      <td>153890</td>\n      <td>Yes, there is a way to do this using the print...</td>\n      <td>1</td>\n      <td>When is assembly faster than C?\\n\\nI'm trying ...</td>\n    </tr>\n    <tr>\n      <th>4809</th>\n      <td>44084846</td>\n      <td>It seems that the Docker daemon is not running...</td>\n      <td>1</td>\n      <td>What is the difference between Set and List?\\n...</td>\n    </tr>\n    <tr>\n      <th>4810</th>\n      <td>1714297</td>\n      <td>The setId method sets a unique identifier for ...</td>\n      <td>1</td>\n      <td>Remove all occurrences of a value from a list?...</td>\n    </tr>\n    <tr>\n      <th>4811</th>\n      <td>10969953</td>\n      <td>You can output a multiline string in Bash by u...</td>\n      <td>1</td>\n      <td>Get the first item from an iterable that match...</td>\n    </tr>\n  </tbody>\n</table>\n<p>4812 rows × 4 columns</p>\n</div>"
     },
     "execution_count": 32,
     "metadata": {},
     "output_type": "execute_result"
    }
   ],
   "source": [
    "questions = pd.read_json(\"./data/raw/questions/questions.jsonl\", lines=True)\n",
    "test_data['question'] = test_data.question_id.apply(lambda x: list(questions[questions.question_id == x].body)[0])\n",
    "test_data.question = test_data.question.apply(lambda x: html.unescape(re.sub(r'<[^<]+?>', '', x)))\n",
    "test_data.question = questions.title.apply(html.unescape) + '\\n\\n' + test_data.question\n",
    "\n",
    "test_data"
   ],
   "metadata": {
    "collapsed": false
   }
  },
  {
   "cell_type": "code",
   "execution_count": 33,
   "outputs": [
    {
     "data": {
      "text/plain": "                                                   tags  accepted_answer_id  \\\n0     [java, c++, performance, cpu-architecture, bra...          11227902.0   \n1              [git, version-control, git-commit, undo]            927386.0   \n2     [git, version-control, git-branch, git-push, g...           2003515.0   \n3           [git, version-control, git-pull, git-fetch]            292359.0   \n4                         [python, iterator, generator]            231855.0   \n...                                                 ...                 ...   \n9995                                     [ruby, arrays]           5878727.0   \n9996  [java, variables, properties, system, environm...           7055010.0   \n9997                [html, css, css-multicolumn-layout]           7785711.0   \n9998                           [javascript, load-order]           8996894.0   \n9999       [javascript, coffeescript, ternary-operator]          10146123.0   \n\n      question_id                                               link  \\\n0        11227809  https://stackoverflow.com/questions/11227809/w...   \n1          927358  https://stackoverflow.com/questions/927358/how...   \n2         2003505  https://stackoverflow.com/questions/2003505/ho...   \n3          292357  https://stackoverflow.com/questions/292357/wha...   \n4          231767  https://stackoverflow.com/questions/231767/wha...   \n...           ...                                                ...   \n9995      5878697  https://stackoverflow.com/questions/5878697/ho...   \n9996      7054972  https://stackoverflow.com/questions/7054972/ja...   \n9997      7785374  https://stackoverflow.com/questions/7785374/ho...   \n9998      8996852  https://stackoverflow.com/questions/8996852/lo...   \n9999     10146080  https://stackoverflow.com/questions/10146080/t...   \n\n                                                  title  \\\n0     Why is processing a sorted array faster than p...   \n1     How do I undo the most recent local commits in...   \n2     How do I delete a Git branch locally and remot...   \n3     What is the difference between &#39;git pull&#...   \n4           What does the &quot;yield&quot; keyword do?   \n...                                                 ...   \n9995      How do I remove blank elements from an array?   \n9996   Java system properties and environment variables   \n9997     How to prevent column break within an element?   \n9998                  load and execute order of scripts   \n9999                  Ternary operation in CoffeeScript   \n\n                                                   body  \n0     <p>Here is a piece of C++ code that shows some...  \n1     <p>I accidentally committed the wrong files to...  \n2     <p>Failed Attempts to Delete a Remote Branch:<...  \n3     <p>What are the differences between <a href=\"h...  \n4     <p>What is the use of the <code>yield</code> k...  \n...                                                 ...  \n9995  <p>I have the following array </p>\\n\\n<pre><co...  \n9996  <p>What's the difference between system proper...  \n9997  <p>Consider the following HTML:</p>\\n\\n<pre><c...  \n9998  <p>There are so many different ways to include...  \n9999  <p>I need to set value to <code>a</code> that ...  \n\n[10000 rows x 6 columns]",
      "text/html": "<div>\n<style scoped>\n    .dataframe tbody tr th:only-of-type {\n        vertical-align: middle;\n    }\n\n    .dataframe tbody tr th {\n        vertical-align: top;\n    }\n\n    .dataframe thead th {\n        text-align: right;\n    }\n</style>\n<table border=\"1\" class=\"dataframe\">\n  <thead>\n    <tr style=\"text-align: right;\">\n      <th></th>\n      <th>tags</th>\n      <th>accepted_answer_id</th>\n      <th>question_id</th>\n      <th>link</th>\n      <th>title</th>\n      <th>body</th>\n    </tr>\n  </thead>\n  <tbody>\n    <tr>\n      <th>0</th>\n      <td>[java, c++, performance, cpu-architecture, bra...</td>\n      <td>11227902.0</td>\n      <td>11227809</td>\n      <td>https://stackoverflow.com/questions/11227809/w...</td>\n      <td>Why is processing a sorted array faster than p...</td>\n      <td>&lt;p&gt;Here is a piece of C++ code that shows some...</td>\n    </tr>\n    <tr>\n      <th>1</th>\n      <td>[git, version-control, git-commit, undo]</td>\n      <td>927386.0</td>\n      <td>927358</td>\n      <td>https://stackoverflow.com/questions/927358/how...</td>\n      <td>How do I undo the most recent local commits in...</td>\n      <td>&lt;p&gt;I accidentally committed the wrong files to...</td>\n    </tr>\n    <tr>\n      <th>2</th>\n      <td>[git, version-control, git-branch, git-push, g...</td>\n      <td>2003515.0</td>\n      <td>2003505</td>\n      <td>https://stackoverflow.com/questions/2003505/ho...</td>\n      <td>How do I delete a Git branch locally and remot...</td>\n      <td>&lt;p&gt;Failed Attempts to Delete a Remote Branch:&lt;...</td>\n    </tr>\n    <tr>\n      <th>3</th>\n      <td>[git, version-control, git-pull, git-fetch]</td>\n      <td>292359.0</td>\n      <td>292357</td>\n      <td>https://stackoverflow.com/questions/292357/wha...</td>\n      <td>What is the difference between &amp;#39;git pull&amp;#...</td>\n      <td>&lt;p&gt;What are the differences between &lt;a href=\"h...</td>\n    </tr>\n    <tr>\n      <th>4</th>\n      <td>[python, iterator, generator]</td>\n      <td>231855.0</td>\n      <td>231767</td>\n      <td>https://stackoverflow.com/questions/231767/wha...</td>\n      <td>What does the &amp;quot;yield&amp;quot; keyword do?</td>\n      <td>&lt;p&gt;What is the use of the &lt;code&gt;yield&lt;/code&gt; k...</td>\n    </tr>\n    <tr>\n      <th>...</th>\n      <td>...</td>\n      <td>...</td>\n      <td>...</td>\n      <td>...</td>\n      <td>...</td>\n      <td>...</td>\n    </tr>\n    <tr>\n      <th>9995</th>\n      <td>[ruby, arrays]</td>\n      <td>5878727.0</td>\n      <td>5878697</td>\n      <td>https://stackoverflow.com/questions/5878697/ho...</td>\n      <td>How do I remove blank elements from an array?</td>\n      <td>&lt;p&gt;I have the following array &lt;/p&gt;\\n\\n&lt;pre&gt;&lt;co...</td>\n    </tr>\n    <tr>\n      <th>9996</th>\n      <td>[java, variables, properties, system, environm...</td>\n      <td>7055010.0</td>\n      <td>7054972</td>\n      <td>https://stackoverflow.com/questions/7054972/ja...</td>\n      <td>Java system properties and environment variables</td>\n      <td>&lt;p&gt;What's the difference between system proper...</td>\n    </tr>\n    <tr>\n      <th>9997</th>\n      <td>[html, css, css-multicolumn-layout]</td>\n      <td>7785711.0</td>\n      <td>7785374</td>\n      <td>https://stackoverflow.com/questions/7785374/ho...</td>\n      <td>How to prevent column break within an element?</td>\n      <td>&lt;p&gt;Consider the following HTML:&lt;/p&gt;\\n\\n&lt;pre&gt;&lt;c...</td>\n    </tr>\n    <tr>\n      <th>9998</th>\n      <td>[javascript, load-order]</td>\n      <td>8996894.0</td>\n      <td>8996852</td>\n      <td>https://stackoverflow.com/questions/8996852/lo...</td>\n      <td>load and execute order of scripts</td>\n      <td>&lt;p&gt;There are so many different ways to include...</td>\n    </tr>\n    <tr>\n      <th>9999</th>\n      <td>[javascript, coffeescript, ternary-operator]</td>\n      <td>10146123.0</td>\n      <td>10146080</td>\n      <td>https://stackoverflow.com/questions/10146080/t...</td>\n      <td>Ternary operation in CoffeeScript</td>\n      <td>&lt;p&gt;I need to set value to &lt;code&gt;a&lt;/code&gt; that ...</td>\n    </tr>\n  </tbody>\n</table>\n<p>10000 rows × 6 columns</p>\n</div>"
     },
     "execution_count": 33,
     "metadata": {},
     "output_type": "execute_result"
    }
   ],
   "source": [
    "questions"
   ],
   "metadata": {
    "collapsed": false
   }
  },
  {
   "cell_type": "code",
   "execution_count": 34,
   "outputs": [],
   "source": [
    "test_data.to_json(\"./data/balanced_data.jsonl\", lines=True, orient='records')"
   ],
   "metadata": {
    "collapsed": false
   }
  },
  {
   "cell_type": "code",
   "execution_count": 35,
   "outputs": [
    {
     "data": {
      "text/plain": "(4812, 4)"
     },
     "execution_count": 35,
     "metadata": {},
     "output_type": "execute_result"
    }
   ],
   "source": [
    "test_data.shape"
   ],
   "metadata": {
    "collapsed": false
   }
  },
  {
   "cell_type": "code",
   "execution_count": null,
   "outputs": [],
   "source": [],
   "metadata": {
    "collapsed": false
   }
  }
 ],
 "metadata": {
  "kernelspec": {
   "display_name": "Python 3",
   "language": "python",
   "name": "python3"
  },
  "language_info": {
   "codemirror_mode": {
    "name": "ipython",
    "version": 2
   },
   "file_extension": ".py",
   "mimetype": "text/x-python",
   "name": "python",
   "nbconvert_exporter": "python",
   "pygments_lexer": "ipython2",
   "version": "2.7.6"
  }
 },
 "nbformat": 4,
 "nbformat_minor": 0
}
