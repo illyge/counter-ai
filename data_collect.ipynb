{
 "cells": [
  {
   "cell_type": "code",
   "execution_count": 18,
   "id": "4c766b12-f400-4320-b743-0516282e412b",
   "metadata": {},
   "outputs": [],
   "source": [
    "import pandas as pd"
   ]
  },
  {
   "cell_type": "code",
   "execution_count": 19,
   "id": "1122db01-ef35-4b68-847e-a8e3681b2347",
   "metadata": {},
   "outputs": [],
   "source": [
    "import re"
   ]
  },
  {
   "cell_type": "markdown",
   "source": [
    "## Raw questions and human answers\n",
    "The files in `data/raw/questions` and `data/raw/answers_human` folders are the result of running the `download_questions.py` and `download_answers.py` and merging them into single files.\n",
    "It was done manually in the terminal"
   ],
   "metadata": {
    "collapsed": false
   }
  },
  {
   "cell_type": "code",
   "execution_count": 20,
   "id": "f6c76220-088d-4547-a799-461ff6701cb0",
   "metadata": {
    "tags": []
   },
   "outputs": [
    {
     "data": {
      "text/plain": "                                                   tags  question_id  \\\n0     [java, c++, performance, cpu-architecture, bra...     11227809   \n1              [git, version-control, git-commit, undo]       927358   \n2     [git, version-control, git-branch, git-push, g...      2003505   \n3           [git, version-control, git-pull, git-fetch]       292357   \n4                         [python, iterator, generator]       231767   \n...                                                 ...          ...   \n9995                                     [ruby, arrays]      5878697   \n9996  [java, variables, properties, system, environm...      7054972   \n9997                [html, css, css-multicolumn-layout]      7785374   \n9998                           [javascript, load-order]      8996852   \n9999       [javascript, coffeescript, ternary-operator]     10146080   \n\n                                                  title  \\\n0     Why is processing a sorted array faster than p...   \n1     How do I undo the most recent local commits in...   \n2     How do I delete a Git branch locally and remot...   \n3     What is the difference between &#39;git pull&#...   \n4           What does the &quot;yield&quot; keyword do?   \n...                                                 ...   \n9995      How do I remove blank elements from an array?   \n9996   Java system properties and environment variables   \n9997     How to prevent column break within an element?   \n9998                  load and execute order of scripts   \n9999                  Ternary operation in CoffeeScript   \n\n                                               question  \n0     <p>Here is a piece of C++ code that shows some...  \n1     <p>I accidentally committed the wrong files to...  \n2     <p>Failed Attempts to Delete a Remote Branch:<...  \n3     <p>What are the differences between <a href=\"h...  \n4     <p>What is the use of the <code>yield</code> k...  \n...                                                 ...  \n9995  <p>I have the following array </p>\\n\\n<pre><co...  \n9996  <p>What's the difference between system proper...  \n9997  <p>Consider the following HTML:</p>\\n\\n<pre><c...  \n9998  <p>There are so many different ways to include...  \n9999  <p>I need to set value to <code>a</code> that ...  \n\n[10000 rows x 4 columns]",
      "text/html": "<div>\n<style scoped>\n    .dataframe tbody tr th:only-of-type {\n        vertical-align: middle;\n    }\n\n    .dataframe tbody tr th {\n        vertical-align: top;\n    }\n\n    .dataframe thead th {\n        text-align: right;\n    }\n</style>\n<table border=\"1\" class=\"dataframe\">\n  <thead>\n    <tr style=\"text-align: right;\">\n      <th></th>\n      <th>tags</th>\n      <th>question_id</th>\n      <th>title</th>\n      <th>question</th>\n    </tr>\n  </thead>\n  <tbody>\n    <tr>\n      <th>0</th>\n      <td>[java, c++, performance, cpu-architecture, bra...</td>\n      <td>11227809</td>\n      <td>Why is processing a sorted array faster than p...</td>\n      <td>&lt;p&gt;Here is a piece of C++ code that shows some...</td>\n    </tr>\n    <tr>\n      <th>1</th>\n      <td>[git, version-control, git-commit, undo]</td>\n      <td>927358</td>\n      <td>How do I undo the most recent local commits in...</td>\n      <td>&lt;p&gt;I accidentally committed the wrong files to...</td>\n    </tr>\n    <tr>\n      <th>2</th>\n      <td>[git, version-control, git-branch, git-push, g...</td>\n      <td>2003505</td>\n      <td>How do I delete a Git branch locally and remot...</td>\n      <td>&lt;p&gt;Failed Attempts to Delete a Remote Branch:&lt;...</td>\n    </tr>\n    <tr>\n      <th>3</th>\n      <td>[git, version-control, git-pull, git-fetch]</td>\n      <td>292357</td>\n      <td>What is the difference between &amp;#39;git pull&amp;#...</td>\n      <td>&lt;p&gt;What are the differences between &lt;a href=\"h...</td>\n    </tr>\n    <tr>\n      <th>4</th>\n      <td>[python, iterator, generator]</td>\n      <td>231767</td>\n      <td>What does the &amp;quot;yield&amp;quot; keyword do?</td>\n      <td>&lt;p&gt;What is the use of the &lt;code&gt;yield&lt;/code&gt; k...</td>\n    </tr>\n    <tr>\n      <th>...</th>\n      <td>...</td>\n      <td>...</td>\n      <td>...</td>\n      <td>...</td>\n    </tr>\n    <tr>\n      <th>9995</th>\n      <td>[ruby, arrays]</td>\n      <td>5878697</td>\n      <td>How do I remove blank elements from an array?</td>\n      <td>&lt;p&gt;I have the following array &lt;/p&gt;\\n\\n&lt;pre&gt;&lt;co...</td>\n    </tr>\n    <tr>\n      <th>9996</th>\n      <td>[java, variables, properties, system, environm...</td>\n      <td>7054972</td>\n      <td>Java system properties and environment variables</td>\n      <td>&lt;p&gt;What's the difference between system proper...</td>\n    </tr>\n    <tr>\n      <th>9997</th>\n      <td>[html, css, css-multicolumn-layout]</td>\n      <td>7785374</td>\n      <td>How to prevent column break within an element?</td>\n      <td>&lt;p&gt;Consider the following HTML:&lt;/p&gt;\\n\\n&lt;pre&gt;&lt;c...</td>\n    </tr>\n    <tr>\n      <th>9998</th>\n      <td>[javascript, load-order]</td>\n      <td>8996852</td>\n      <td>load and execute order of scripts</td>\n      <td>&lt;p&gt;There are so many different ways to include...</td>\n    </tr>\n    <tr>\n      <th>9999</th>\n      <td>[javascript, coffeescript, ternary-operator]</td>\n      <td>10146080</td>\n      <td>Ternary operation in CoffeeScript</td>\n      <td>&lt;p&gt;I need to set value to &lt;code&gt;a&lt;/code&gt; that ...</td>\n    </tr>\n  </tbody>\n</table>\n<p>10000 rows × 4 columns</p>\n</div>"
     },
     "execution_count": 20,
     "metadata": {},
     "output_type": "execute_result"
    }
   ],
   "source": [
    "raw_questions_df = pd.read_json(\"data/raw/questions/questions.jsonl\", lines=True)\n",
    "questions_df = raw_questions_df.drop(['accepted_answer_id', 'link'], axis=1)\n",
    "questions_df = questions_df.rename(columns={'body': 'question'})\n",
    "questions_df"
   ]
  },
  {
   "cell_type": "code",
   "execution_count": 21,
   "id": "9a9aaeb2-6f76-45e0-84be-eb6a386b3db6",
   "metadata": {
    "tags": []
   },
   "outputs": [
    {
     "data": {
      "text/plain": "      question_id                                             answer\n0        11227809  <p><strong>You are a victim of <a href=\"https:...\n1          927358  <h1>Undo a commit &amp; redo</h1>\\n<pre class=...\n2         2003505  <h1>Executive Summary</h1>\\n<pre><code>git pus...\n3          292357  <p>In the simplest terms, <a href=\"http://git-...\n4          231767  <p>To understand what <code>yield</code> does,...\n...           ...                                                ...\n8939      5878697  <p>There are many ways to do this, one is <cod...\n8940      7054972  <p>I think the difference between the two boil...\n8941      7785374  <p>The correct way to do this is with the <a h...\n8942      8996852  <p>If you aren't dynamically loading scripts o...\n8943     10146080  <p>Since everything is an expression, and thus...\n\n[8944 rows x 2 columns]",
      "text/html": "<div>\n<style scoped>\n    .dataframe tbody tr th:only-of-type {\n        vertical-align: middle;\n    }\n\n    .dataframe tbody tr th {\n        vertical-align: top;\n    }\n\n    .dataframe thead th {\n        text-align: right;\n    }\n</style>\n<table border=\"1\" class=\"dataframe\">\n  <thead>\n    <tr style=\"text-align: right;\">\n      <th></th>\n      <th>question_id</th>\n      <th>answer</th>\n    </tr>\n  </thead>\n  <tbody>\n    <tr>\n      <th>0</th>\n      <td>11227809</td>\n      <td>&lt;p&gt;&lt;strong&gt;You are a victim of &lt;a href=\"https:...</td>\n    </tr>\n    <tr>\n      <th>1</th>\n      <td>927358</td>\n      <td>&lt;h1&gt;Undo a commit &amp;amp; redo&lt;/h1&gt;\\n&lt;pre class=...</td>\n    </tr>\n    <tr>\n      <th>2</th>\n      <td>2003505</td>\n      <td>&lt;h1&gt;Executive Summary&lt;/h1&gt;\\n&lt;pre&gt;&lt;code&gt;git pus...</td>\n    </tr>\n    <tr>\n      <th>3</th>\n      <td>292357</td>\n      <td>&lt;p&gt;In the simplest terms, &lt;a href=\"http://git-...</td>\n    </tr>\n    <tr>\n      <th>4</th>\n      <td>231767</td>\n      <td>&lt;p&gt;To understand what &lt;code&gt;yield&lt;/code&gt; does,...</td>\n    </tr>\n    <tr>\n      <th>...</th>\n      <td>...</td>\n      <td>...</td>\n    </tr>\n    <tr>\n      <th>8939</th>\n      <td>5878697</td>\n      <td>&lt;p&gt;There are many ways to do this, one is &lt;cod...</td>\n    </tr>\n    <tr>\n      <th>8940</th>\n      <td>7054972</td>\n      <td>&lt;p&gt;I think the difference between the two boil...</td>\n    </tr>\n    <tr>\n      <th>8941</th>\n      <td>7785374</td>\n      <td>&lt;p&gt;The correct way to do this is with the &lt;a h...</td>\n    </tr>\n    <tr>\n      <th>8942</th>\n      <td>8996852</td>\n      <td>&lt;p&gt;If you aren't dynamically loading scripts o...</td>\n    </tr>\n    <tr>\n      <th>8943</th>\n      <td>10146080</td>\n      <td>&lt;p&gt;Since everything is an expression, and thus...</td>\n    </tr>\n  </tbody>\n</table>\n<p>8944 rows × 2 columns</p>\n</div>"
     },
     "execution_count": 21,
     "metadata": {},
     "output_type": "execute_result"
    }
   ],
   "source": [
    "raw_answers_df = pd.read_json(\"data/raw/answers_human/answers_human.jsonl\", lines=True)\n",
    "answers_df = raw_answers_df.drop(['last_activity_date', 'answer_id', 'link', 'title'], axis=1)\n",
    "answers_df = answers_df.rename(columns={'body': 'answer'})\n",
    "answers_df"
   ]
  },
  {
   "cell_type": "markdown",
   "source": [
    "## Cleaning up and preparing the data"
   ],
   "metadata": {
    "collapsed": false
   }
  },
  {
   "cell_type": "code",
   "execution_count": 22,
   "id": "9b2796b2-9309-4ea0-ae10-fab07a2d0e6d",
   "metadata": {
    "tags": []
   },
   "outputs": [
    {
     "data": {
      "text/plain": "                                                   tags  question_id  \\\n0     [java, c++, performance, cpu-architecture, bra...     11227809   \n1              [git, version-control, git-commit, undo]       927358   \n2     [git, version-control, git-branch, git-push, g...      2003505   \n3           [git, version-control, git-pull, git-fetch]       292357   \n4                         [python, iterator, generator]       231767   \n...                                                 ...          ...   \n8943                                     [ruby, arrays]      5878697   \n8944  [java, variables, properties, system, environm...      7054972   \n8945                [html, css, css-multicolumn-layout]      7785374   \n8946                           [javascript, load-order]      8996852   \n8947       [javascript, coffeescript, ternary-operator]     10146080   \n\n                                                  title  \\\n0     Why is processing a sorted array faster than p...   \n1     How do I undo the most recent local commits in...   \n2     How do I delete a Git branch locally and remot...   \n3     What is the difference between &#39;git pull&#...   \n4           What does the &quot;yield&quot; keyword do?   \n...                                                 ...   \n8943      How do I remove blank elements from an array?   \n8944   Java system properties and environment variables   \n8945     How to prevent column break within an element?   \n8946                  load and execute order of scripts   \n8947                  Ternary operation in CoffeeScript   \n\n                                               question  \\\n0     <p>Here is a piece of C++ code that shows some...   \n1     <p>I accidentally committed the wrong files to...   \n2     <p>Failed Attempts to Delete a Remote Branch:<...   \n3     <p>What are the differences between <a href=\"h...   \n4     <p>What is the use of the <code>yield</code> k...   \n...                                                 ...   \n8943  <p>I have the following array </p>\\n\\n<pre><co...   \n8944  <p>What's the difference between system proper...   \n8945  <p>Consider the following HTML:</p>\\n\\n<pre><c...   \n8946  <p>There are so many different ways to include...   \n8947  <p>I need to set value to <code>a</code> that ...   \n\n                                                 answer  \n0     <p><strong>You are a victim of <a href=\"https:...  \n1     <h1>Undo a commit &amp; redo</h1>\\n<pre class=...  \n2     <h1>Executive Summary</h1>\\n<pre><code>git pus...  \n3     <p>In the simplest terms, <a href=\"http://git-...  \n4     <p>To understand what <code>yield</code> does,...  \n...                                                 ...  \n8943  <p>There are many ways to do this, one is <cod...  \n8944  <p>I think the difference between the two boil...  \n8945  <p>The correct way to do this is with the <a h...  \n8946  <p>If you aren't dynamically loading scripts o...  \n8947  <p>Since everything is an expression, and thus...  \n\n[8948 rows x 5 columns]",
      "text/html": "<div>\n<style scoped>\n    .dataframe tbody tr th:only-of-type {\n        vertical-align: middle;\n    }\n\n    .dataframe tbody tr th {\n        vertical-align: top;\n    }\n\n    .dataframe thead th {\n        text-align: right;\n    }\n</style>\n<table border=\"1\" class=\"dataframe\">\n  <thead>\n    <tr style=\"text-align: right;\">\n      <th></th>\n      <th>tags</th>\n      <th>question_id</th>\n      <th>title</th>\n      <th>question</th>\n      <th>answer</th>\n    </tr>\n  </thead>\n  <tbody>\n    <tr>\n      <th>0</th>\n      <td>[java, c++, performance, cpu-architecture, bra...</td>\n      <td>11227809</td>\n      <td>Why is processing a sorted array faster than p...</td>\n      <td>&lt;p&gt;Here is a piece of C++ code that shows some...</td>\n      <td>&lt;p&gt;&lt;strong&gt;You are a victim of &lt;a href=\"https:...</td>\n    </tr>\n    <tr>\n      <th>1</th>\n      <td>[git, version-control, git-commit, undo]</td>\n      <td>927358</td>\n      <td>How do I undo the most recent local commits in...</td>\n      <td>&lt;p&gt;I accidentally committed the wrong files to...</td>\n      <td>&lt;h1&gt;Undo a commit &amp;amp; redo&lt;/h1&gt;\\n&lt;pre class=...</td>\n    </tr>\n    <tr>\n      <th>2</th>\n      <td>[git, version-control, git-branch, git-push, g...</td>\n      <td>2003505</td>\n      <td>How do I delete a Git branch locally and remot...</td>\n      <td>&lt;p&gt;Failed Attempts to Delete a Remote Branch:&lt;...</td>\n      <td>&lt;h1&gt;Executive Summary&lt;/h1&gt;\\n&lt;pre&gt;&lt;code&gt;git pus...</td>\n    </tr>\n    <tr>\n      <th>3</th>\n      <td>[git, version-control, git-pull, git-fetch]</td>\n      <td>292357</td>\n      <td>What is the difference between &amp;#39;git pull&amp;#...</td>\n      <td>&lt;p&gt;What are the differences between &lt;a href=\"h...</td>\n      <td>&lt;p&gt;In the simplest terms, &lt;a href=\"http://git-...</td>\n    </tr>\n    <tr>\n      <th>4</th>\n      <td>[python, iterator, generator]</td>\n      <td>231767</td>\n      <td>What does the &amp;quot;yield&amp;quot; keyword do?</td>\n      <td>&lt;p&gt;What is the use of the &lt;code&gt;yield&lt;/code&gt; k...</td>\n      <td>&lt;p&gt;To understand what &lt;code&gt;yield&lt;/code&gt; does,...</td>\n    </tr>\n    <tr>\n      <th>...</th>\n      <td>...</td>\n      <td>...</td>\n      <td>...</td>\n      <td>...</td>\n      <td>...</td>\n    </tr>\n    <tr>\n      <th>8943</th>\n      <td>[ruby, arrays]</td>\n      <td>5878697</td>\n      <td>How do I remove blank elements from an array?</td>\n      <td>&lt;p&gt;I have the following array &lt;/p&gt;\\n\\n&lt;pre&gt;&lt;co...</td>\n      <td>&lt;p&gt;There are many ways to do this, one is &lt;cod...</td>\n    </tr>\n    <tr>\n      <th>8944</th>\n      <td>[java, variables, properties, system, environm...</td>\n      <td>7054972</td>\n      <td>Java system properties and environment variables</td>\n      <td>&lt;p&gt;What's the difference between system proper...</td>\n      <td>&lt;p&gt;I think the difference between the two boil...</td>\n    </tr>\n    <tr>\n      <th>8945</th>\n      <td>[html, css, css-multicolumn-layout]</td>\n      <td>7785374</td>\n      <td>How to prevent column break within an element?</td>\n      <td>&lt;p&gt;Consider the following HTML:&lt;/p&gt;\\n\\n&lt;pre&gt;&lt;c...</td>\n      <td>&lt;p&gt;The correct way to do this is with the &lt;a h...</td>\n    </tr>\n    <tr>\n      <th>8946</th>\n      <td>[javascript, load-order]</td>\n      <td>8996852</td>\n      <td>load and execute order of scripts</td>\n      <td>&lt;p&gt;There are so many different ways to include...</td>\n      <td>&lt;p&gt;If you aren't dynamically loading scripts o...</td>\n    </tr>\n    <tr>\n      <th>8947</th>\n      <td>[javascript, coffeescript, ternary-operator]</td>\n      <td>10146080</td>\n      <td>Ternary operation in CoffeeScript</td>\n      <td>&lt;p&gt;I need to set value to &lt;code&gt;a&lt;/code&gt; that ...</td>\n      <td>&lt;p&gt;Since everything is an expression, and thus...</td>\n    </tr>\n  </tbody>\n</table>\n<p>8948 rows × 5 columns</p>\n</div>"
     },
     "execution_count": 22,
     "metadata": {},
     "output_type": "execute_result"
    }
   ],
   "source": [
    "qa_df = pd.merge(questions_df, answers_df, on=\"question_id\", how=\"inner\")\n",
    "qa_df"
   ]
  },
  {
   "cell_type": "markdown",
   "source": [
    "The output of the StackExchange API are texts with html tags. To prepare them for OpenAI API and later NLP classification I'm stripping all the tags from them.\n",
    "I'm also merging the title with the body of the question, so that AI can use the same context as the human was using to answer the question"
   ],
   "metadata": {
    "collapsed": false
   }
  },
  {
   "cell_type": "code",
   "execution_count": 23,
   "id": "b007319c-f504-4b8a-80ed-b10802ca620b",
   "metadata": {},
   "outputs": [],
   "source": [
    "import html"
   ]
  },
  {
   "cell_type": "code",
   "execution_count": 24,
   "id": "db9c75d2-bccf-41d8-8cb2-76889580ca3b",
   "metadata": {},
   "outputs": [],
   "source": [
    "qa_df_pure = qa_df.copy()\n",
    "qa_df_pure.question = qa_df.question.apply(lambda x: html.unescape(re.sub(r'<[^<]+?>', '', x)))\n",
    "qa_df_pure.question = qa_df.title.apply(html.unescape) + '\\n\\n' + qa_df_pure.question\n",
    "qa_df_pure.answer = qa_df.answer.apply(lambda x: html.unescape(re.sub(r'<[^<]+?>', '', x)))"
   ]
  },
  {
   "cell_type": "markdown",
   "source": [
    "## Limiting the size of the answer.\n",
    "In requests to OpenAI API I'm using limit of `max_tokens=2048`. It is roughly equal to 8000 characters. That's why I'm filtering out longer answers from the human-generated data"
   ],
   "metadata": {
    "collapsed": false
   }
  },
  {
   "cell_type": "code",
   "execution_count": 25,
   "id": "2e01e3d6-073c-495d-b226-1c6b6574c95c",
   "metadata": {},
   "outputs": [
    {
     "data": {
      "text/plain": "Index(['tags', 'question_id', 'question', 'answer'], dtype='object')"
     },
     "execution_count": 25,
     "metadata": {},
     "output_type": "execute_result"
    }
   ],
   "source": [
    "qa_df_limited_answer = qa_df_pure[qa_df_pure.answer.str.len() < 8000].drop(['title'], axis=1)\n",
    "qa_df_limited_answer.columns"
   ]
  },
  {
   "cell_type": "code",
   "execution_count": 26,
   "id": "ba8342ba-2665-4c01-9e99-5c636d4ad08b",
   "metadata": {},
   "outputs": [],
   "source": [
    "questions_gpt_api = qa_df_limited_answer.drop(['tags', 'answer'], axis=1)"
   ]
  },
  {
   "cell_type": "code",
   "execution_count": 27,
   "id": "5949cdd5-b785-497f-9966-308dc78a01a0",
   "metadata": {},
   "outputs": [
    {
     "data": {
      "text/plain": "(8811, 2)"
     },
     "execution_count": 27,
     "metadata": {},
     "output_type": "execute_result"
    }
   ],
   "source": [
    "questions_gpt_api.shape"
   ]
  },
  {
   "cell_type": "markdown",
   "source": [
    "## Saving data for further processing by OpenAI API"
   ],
   "metadata": {
    "collapsed": false
   }
  },
  {
   "cell_type": "code",
   "execution_count": 28,
   "id": "92ae20de-d9db-4ff9-9495-41a691e282bc",
   "metadata": {},
   "outputs": [],
   "source": [
    "questions_gpt_api.to_json(\"data/gpt_api/questions.jsonl\", lines=True, orient='records')"
   ]
  },
  {
   "cell_type": "code",
   "execution_count": 29,
   "id": "3568f937-4f02-410f-b5f9-2a6322185a99",
   "metadata": {},
   "outputs": [
    {
     "data": {
      "text/plain": "(Index(['tags', 'question_id', 'title', 'question', 'answer'], dtype='object'),\n Index(['question_id', 'question'], dtype='object'))"
     },
     "execution_count": 29,
     "metadata": {},
     "output_type": "execute_result"
    }
   ],
   "source": [
    "qa_df_final = qa_df_pure[qa_df_pure.answer.str.len() < 8000]\n",
    "qa_df_final.columns, questions_gpt_api.columns"
   ]
  },
  {
   "cell_type": "markdown",
   "source": [
    "## Raw AI-generated data\n",
    "The files in the `data/raw/answers_gpt_api` are the result of running the `download_answers_ai.py` script.\n",
    "It was done manually in the terminal"
   ],
   "metadata": {
    "collapsed": false
   }
  },
  {
   "cell_type": "code",
   "execution_count": 30,
   "id": "0e4a8533-c3cc-410f-aa1a-21c2ae028872",
   "metadata": {},
   "outputs": [],
   "source": [
    "ai_answers = pd.read_json(\"data/raw/answers_gpt_api/answers_ai.jsonl\", lines=True)"
   ]
  },
  {
   "cell_type": "code",
   "execution_count": 31,
   "id": "cbcf4b8c-62a0-4ae5-9f74-d7deddfe9c10",
   "metadata": {},
   "outputs": [],
   "source": [
    "complete_data = pd.merge(qa_df_final.rename(columns={'answer': 'human_answer'}), ai_answers.rename(columns={'answer': 'ai_answer'}), on='question_id', how='inner')\n",
    "complete_data = complete_data.drop('tokens_spent', axis=1)\n",
    "complete_data = complete_data.drop('tags', axis=1)\n",
    "complete_data = complete_data.drop('title', axis=1)"
   ]
  },
  {
   "cell_type": "code",
   "execution_count": 32,
   "outputs": [
    {
     "data": {
      "text/plain": "(7988, 5046)"
     },
     "execution_count": 32,
     "metadata": {},
     "output_type": "execute_result"
    }
   ],
   "source": [
    "max(complete_data.human_answer.str.len()), max(complete_data.ai_answer.str.len())"
   ],
   "metadata": {
    "collapsed": false
   }
  },
  {
   "cell_type": "markdown",
   "source": [
    "## Limiting answer size again\n",
    "Despite the first limitation, AI tends to create shorter answers. I don't want to rely on this fact while training the model, so I'm limiting the dataset in a way when StackOverflow max answer size is the same as AI max answer size:"
   ],
   "metadata": {
    "collapsed": false
   }
  },
  {
   "cell_type": "code",
   "execution_count": 33,
   "id": "805bf72d-3713-4ff0-9dd7-81d721fbd13b",
   "metadata": {},
   "outputs": [
    {
     "data": {
      "text/plain": "(5046, 5046)"
     },
     "execution_count": 33,
     "metadata": {},
     "output_type": "execute_result"
    }
   ],
   "source": [
    "complete_data = complete_data[complete_data.human_answer.str.len() <= max(complete_data.ai_answer.str.len())]\n",
    "complete_data.to_json(\"data/data.jsonl\", lines=True, orient='records')\n",
    "max(complete_data.human_answer.str.len()), max(complete_data.ai_answer.str.len()),"
   ]
  },
  {
   "cell_type": "markdown",
   "source": [
    "## Saving the data\n",
    "The file `data/data.jsonl` will be used for EDA and model training"
   ],
   "metadata": {
    "collapsed": false
   }
  },
  {
   "cell_type": "code",
   "execution_count": 34,
   "outputs": [],
   "source": [
    "complete_data.to_json(\"data/data.jsonl\", lines=True, orient='records')"
   ],
   "metadata": {
    "collapsed": false
   }
  }
 ],
 "metadata": {
  "kernelspec": {
   "display_name": "Python 3 (ipykernel)",
   "language": "python",
   "name": "python3"
  },
  "language_info": {
   "codemirror_mode": {
    "name": "ipython",
    "version": 3
   },
   "file_extension": ".py",
   "mimetype": "text/x-python",
   "name": "python",
   "nbconvert_exporter": "python",
   "pygments_lexer": "ipython3",
   "version": "3.10.6"
  }
 },
 "nbformat": 4,
 "nbformat_minor": 5
}
