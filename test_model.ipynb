{
 "cells": [
  {
   "cell_type": "code",
   "execution_count": 1,
   "metadata": {
    "collapsed": true
   },
   "outputs": [],
   "source": [
    "import pandas as pd"
   ]
  },
  {
   "cell_type": "code",
   "execution_count": 2,
   "outputs": [
    {
     "name": "stderr",
     "output_type": "stream",
     "text": [
      "[nltk_data] Downloading package punkt to /home/iliav/nltk_data...\n",
      "[nltk_data]   Package punkt is already up-to-date!\n"
     ]
    }
   ],
   "source": [
    "from util.preprocess_util import prepare_data"
   ],
   "metadata": {
    "collapsed": false
   }
  },
  {
   "cell_type": "code",
   "execution_count": 3,
   "outputs": [],
   "source": [
    "data = pd.read_json(\"./data/data.jsonl\", lines=True)"
   ],
   "metadata": {
    "collapsed": false
   }
  },
  {
   "cell_type": "code",
   "execution_count": 4,
   "outputs": [],
   "source": [
    "test_data = pd.read_json(\"./data/test_data.jsonl\", lines=True)"
   ],
   "metadata": {
    "collapsed": false
   }
  },
  {
   "cell_type": "code",
   "execution_count": 5,
   "outputs": [
    {
     "data": {
      "text/plain": "(8638, 4)"
     },
     "execution_count": 5,
     "metadata": {},
     "output_type": "execute_result"
    }
   ],
   "source": [
    "data.shape"
   ],
   "metadata": {
    "collapsed": false
   }
  },
  {
   "cell_type": "code",
   "execution_count": 6,
   "outputs": [
    {
     "data": {
      "text/plain": "(7258, 4)"
     },
     "execution_count": 6,
     "metadata": {},
     "output_type": "execute_result"
    }
   ],
   "source": [
    "train_data = data[~(data.question_id.isin(list(test_data.question_id)))].copy()\n",
    "train_data.shape"
   ],
   "metadata": {
    "collapsed": false
   }
  },
  {
   "cell_type": "code",
   "execution_count": 7,
   "outputs": [
    {
     "name": "stdout",
     "output_type": "stream",
     "text": [
      "CPU times: user 22.9 s, sys: 76.1 ms, total: 23 s\n",
      "Wall time: 23 s\n"
     ]
    },
    {
     "name": "stderr",
     "output_type": "stream",
     "text": [
      "/home/iliav/Documents/workspaces/counter-ai/venv/lib/python3.10/site-packages/numpy/core/fromnumeric.py:3464: RuntimeWarning: Mean of empty slice.\n",
      "  return _methods._mean(a, axis=axis, dtype=dtype,\n",
      "/home/iliav/Documents/workspaces/counter-ai/venv/lib/python3.10/site-packages/numpy/core/_methods.py:269: RuntimeWarning: Degrees of freedom <= 0 for slice\n",
      "  ret = _var(a, axis=axis, dtype=dtype, out=out, ddof=ddof,\n"
     ]
    }
   ],
   "source": [
    "%%time\n",
    "full_train_data = prepare_data(train_data)"
   ],
   "metadata": {
    "collapsed": false
   }
  },
  {
   "cell_type": "code",
   "execution_count": 8,
   "outputs": [
    {
     "data": {
      "text/plain": "      question_id                                           question  target  \\\n2          292357  What is the difference between 'git pull' and ...       0   \n3          477816  Which JSON content type do I use?\\n\\nThere are...       1   \n4         5767325  How can I remove a specific item from an array...       0   \n8          244777  Can comments be used in JSON?\\n\\nCan I use com...       0   \n9           79923  What and where are the stack and heap?\\n\\n\\nWh...       1   \n...           ...                                                ...     ...   \n8633      5143769  How do I check if a given Python string is a s...       1   \n8634      5878697  How do I remove blank elements from an array?\\...       0   \n8635      7054972  Java system properties and environment variabl...       1   \n8636      7785374  How to prevent column break within an element?...       0   \n8637     10146080  Ternary operation in CoffeeScript\\n\\nI need to...       1   \n\n                                                 answer  \\\n2     In the simplest terms, git pull does a git fet...   \n3     The most widely used and supported JSON conten...   \n4     Find the index of the array element you want t...   \n8     No.\\nJSON is data-only. If you include a comme...   \n9     The stack and heap are two areas of memory use...   \n...                                                 ...   \n8633  Yes, Python has a built-in method called the \"...   \n8634  There are many ways to do this, one is reject\\...   \n8635  System properties (System.getProperties()) are...   \n8636  The correct way to do this is with the break-i...   \n8637  a = (true ? 5 : 10) # => a = 5\\na = (false ? 5...   \n\n                                       tokenized_answer  \\\n2     [in, the, simplest, terms,, git, pull, doe, a,...   \n3     [the, most, wide, use, and, support, json, con...   \n4     [find, the, index, of, the, array, element, yo...   \n8     [no., json, is, data-only., if, you, includ, a...   \n9     [the, stack, and, heap, are, two, area, of, me...   \n...                                                 ...   \n8633  [yes,, python, has, a, built-in, method, call,...   \n8634  [there, are, mani, way, to, do, this,, one, is...   \n8635  [system, properti, (system.getproperties()), a...   \n8636  [the, correct, way, to, do, this, is, with, th...   \n8637  [a, =, (true, ?, 5, :, 10), #, =>, a, =, 5, a,...   \n\n                                     tokenized_question  \\\n2     [what, is, the, differ, between, git, pull, an...   \n3     [which, json, content, type, do, i, use?, ther...   \n4     [how, can, i, remov, a, specif, item, from, an...   \n8     [can, comment, be, use, in, json?, can, i, use...   \n9     [what, and, where, are, the, stack, and, heap?...   \n...                                                 ...   \n8633  [how, do, i, check, if, a, given, python, stri...   \n8634  [how, do, i, remov, blank, element, from, an, ...   \n8635  [java, system, properti, and, environ, variabl...   \n8636  [how, to, prevent, column, break, within, an, ...   \n8637  [ternari, oper, in, coffeescript, i, need, to,...   \n\n                                         stemmed_answer  creativity  \\\n2     in the simplest terms, git pull doe a git fetc...    0.525862   \n3     the most wide use and support json content typ...    0.384615   \n4     find the index of the array element you want t...    0.471616   \n8     no. json is data-only. if you includ a comment...    0.676471   \n9     the stack and heap are two area of memori use ...    0.285714   \n...                                                 ...         ...   \n8633  yes, python has a built-in method call the \"in...    0.453333   \n8634  there are mani way to do this, one is reject n...    0.656716   \n8635  system properti (system.getproperties()) are a...    0.439024   \n8636  the correct way to do this is with the break-i...    0.375405   \n8637  a = (true ? 5 : 10) # => a = 5 a = (fals ? 5 :...    0.125000   \n\n      n_unique_words  vocabulary_size  stealing_strength  stealing_frequency  \\\n2                128         0.551724           1.098612            0.060625   \n3                 40         0.615385           1.386294            0.202941   \n4                119         0.519651           0.693147            0.000000   \n8                 99         0.727941           0.693147            0.000000   \n9                 68         0.359788           1.386294            0.234840   \n...              ...              ...                ...                 ...   \n8633              49         0.653333           1.609438            0.550831   \n8634              54         0.805970           0.693147            0.000000   \n8635              45         0.548780           1.098612            0.085158   \n8636             155         0.501618           1.945910            0.327213   \n8637              11         0.458333           2.079442            1.945910   \n\n      answer_length                                          sentences  \\\n2          7.336286  [In the simplest terms, git pull does a git fe...   \n3          5.929589  [The most widely used and supported JSON conte...   \n4          7.346010  [Find the index of the array element you want ...   \n8          7.003065  [No., JSON is data-only., If you include a com...   \n9          6.967909  [The stack and heap are two areas of memory us...   \n...             ...                                                ...   \n8633       6.120297  [Yes, Python has a built-in method called the ...   \n8634       5.908083  [There are many ways to do this, one is reject...   \n8635       6.278521  [System properties (System.getProperties()) ar...   \n8636       7.682943  [The correct way to do this is with the break-...   \n8637       4.158883  [a = (true ?, 5 : 10) # => a = 5\\na = (false ?...   \n\n      sentence_length_mean  sentence_length_std  \n2                 4.936434             4.393313  \n3                 4.830977             3.629901  \n4                 5.395574             5.486239  \n8                 5.058064             5.163695  \n9                 4.768800             3.618351  \n...                    ...                  ...  \n8633              5.427150             4.255613  \n8634              4.516339             2.964839  \n8635              4.890349             3.534317  \n8636              5.890723             5.761569  \n8637              3.060271             2.221290  \n\n[7228 rows x 16 columns]",
      "text/html": "<div>\n<style scoped>\n    .dataframe tbody tr th:only-of-type {\n        vertical-align: middle;\n    }\n\n    .dataframe tbody tr th {\n        vertical-align: top;\n    }\n\n    .dataframe thead th {\n        text-align: right;\n    }\n</style>\n<table border=\"1\" class=\"dataframe\">\n  <thead>\n    <tr style=\"text-align: right;\">\n      <th></th>\n      <th>question_id</th>\n      <th>question</th>\n      <th>target</th>\n      <th>answer</th>\n      <th>tokenized_answer</th>\n      <th>tokenized_question</th>\n      <th>stemmed_answer</th>\n      <th>creativity</th>\n      <th>n_unique_words</th>\n      <th>vocabulary_size</th>\n      <th>stealing_strength</th>\n      <th>stealing_frequency</th>\n      <th>answer_length</th>\n      <th>sentences</th>\n      <th>sentence_length_mean</th>\n      <th>sentence_length_std</th>\n    </tr>\n  </thead>\n  <tbody>\n    <tr>\n      <th>2</th>\n      <td>292357</td>\n      <td>What is the difference between 'git pull' and ...</td>\n      <td>0</td>\n      <td>In the simplest terms, git pull does a git fet...</td>\n      <td>[in, the, simplest, terms,, git, pull, doe, a,...</td>\n      <td>[what, is, the, differ, between, git, pull, an...</td>\n      <td>in the simplest terms, git pull doe a git fetc...</td>\n      <td>0.525862</td>\n      <td>128</td>\n      <td>0.551724</td>\n      <td>1.098612</td>\n      <td>0.060625</td>\n      <td>7.336286</td>\n      <td>[In the simplest terms, git pull does a git fe...</td>\n      <td>4.936434</td>\n      <td>4.393313</td>\n    </tr>\n    <tr>\n      <th>3</th>\n      <td>477816</td>\n      <td>Which JSON content type do I use?\\n\\nThere are...</td>\n      <td>1</td>\n      <td>The most widely used and supported JSON conten...</td>\n      <td>[the, most, wide, use, and, support, json, con...</td>\n      <td>[which, json, content, type, do, i, use?, ther...</td>\n      <td>the most wide use and support json content typ...</td>\n      <td>0.384615</td>\n      <td>40</td>\n      <td>0.615385</td>\n      <td>1.386294</td>\n      <td>0.202941</td>\n      <td>5.929589</td>\n      <td>[The most widely used and supported JSON conte...</td>\n      <td>4.830977</td>\n      <td>3.629901</td>\n    </tr>\n    <tr>\n      <th>4</th>\n      <td>5767325</td>\n      <td>How can I remove a specific item from an array...</td>\n      <td>0</td>\n      <td>Find the index of the array element you want t...</td>\n      <td>[find, the, index, of, the, array, element, yo...</td>\n      <td>[how, can, i, remov, a, specif, item, from, an...</td>\n      <td>find the index of the array element you want t...</td>\n      <td>0.471616</td>\n      <td>119</td>\n      <td>0.519651</td>\n      <td>0.693147</td>\n      <td>0.000000</td>\n      <td>7.346010</td>\n      <td>[Find the index of the array element you want ...</td>\n      <td>5.395574</td>\n      <td>5.486239</td>\n    </tr>\n    <tr>\n      <th>8</th>\n      <td>244777</td>\n      <td>Can comments be used in JSON?\\n\\nCan I use com...</td>\n      <td>0</td>\n      <td>No.\\nJSON is data-only. If you include a comme...</td>\n      <td>[no., json, is, data-only., if, you, includ, a...</td>\n      <td>[can, comment, be, use, in, json?, can, i, use...</td>\n      <td>no. json is data-only. if you includ a comment...</td>\n      <td>0.676471</td>\n      <td>99</td>\n      <td>0.727941</td>\n      <td>0.693147</td>\n      <td>0.000000</td>\n      <td>7.003065</td>\n      <td>[No., JSON is data-only., If you include a com...</td>\n      <td>5.058064</td>\n      <td>5.163695</td>\n    </tr>\n    <tr>\n      <th>9</th>\n      <td>79923</td>\n      <td>What and where are the stack and heap?\\n\\n\\nWh...</td>\n      <td>1</td>\n      <td>The stack and heap are two areas of memory use...</td>\n      <td>[the, stack, and, heap, are, two, area, of, me...</td>\n      <td>[what, and, where, are, the, stack, and, heap?...</td>\n      <td>the stack and heap are two area of memori use ...</td>\n      <td>0.285714</td>\n      <td>68</td>\n      <td>0.359788</td>\n      <td>1.386294</td>\n      <td>0.234840</td>\n      <td>6.967909</td>\n      <td>[The stack and heap are two areas of memory us...</td>\n      <td>4.768800</td>\n      <td>3.618351</td>\n    </tr>\n    <tr>\n      <th>...</th>\n      <td>...</td>\n      <td>...</td>\n      <td>...</td>\n      <td>...</td>\n      <td>...</td>\n      <td>...</td>\n      <td>...</td>\n      <td>...</td>\n      <td>...</td>\n      <td>...</td>\n      <td>...</td>\n      <td>...</td>\n      <td>...</td>\n      <td>...</td>\n      <td>...</td>\n      <td>...</td>\n    </tr>\n    <tr>\n      <th>8633</th>\n      <td>5143769</td>\n      <td>How do I check if a given Python string is a s...</td>\n      <td>1</td>\n      <td>Yes, Python has a built-in method called the \"...</td>\n      <td>[yes,, python, has, a, built-in, method, call,...</td>\n      <td>[how, do, i, check, if, a, given, python, stri...</td>\n      <td>yes, python has a built-in method call the \"in...</td>\n      <td>0.453333</td>\n      <td>49</td>\n      <td>0.653333</td>\n      <td>1.609438</td>\n      <td>0.550831</td>\n      <td>6.120297</td>\n      <td>[Yes, Python has a built-in method called the ...</td>\n      <td>5.427150</td>\n      <td>4.255613</td>\n    </tr>\n    <tr>\n      <th>8634</th>\n      <td>5878697</td>\n      <td>How do I remove blank elements from an array?\\...</td>\n      <td>0</td>\n      <td>There are many ways to do this, one is reject\\...</td>\n      <td>[there, are, mani, way, to, do, this,, one, is...</td>\n      <td>[how, do, i, remov, blank, element, from, an, ...</td>\n      <td>there are mani way to do this, one is reject n...</td>\n      <td>0.656716</td>\n      <td>54</td>\n      <td>0.805970</td>\n      <td>0.693147</td>\n      <td>0.000000</td>\n      <td>5.908083</td>\n      <td>[There are many ways to do this, one is reject...</td>\n      <td>4.516339</td>\n      <td>2.964839</td>\n    </tr>\n    <tr>\n      <th>8635</th>\n      <td>7054972</td>\n      <td>Java system properties and environment variabl...</td>\n      <td>1</td>\n      <td>System properties (System.getProperties()) are...</td>\n      <td>[system, properti, (system.getproperties()), a...</td>\n      <td>[java, system, properti, and, environ, variabl...</td>\n      <td>system properti (system.getproperties()) are a...</td>\n      <td>0.439024</td>\n      <td>45</td>\n      <td>0.548780</td>\n      <td>1.098612</td>\n      <td>0.085158</td>\n      <td>6.278521</td>\n      <td>[System properties (System.getProperties()) ar...</td>\n      <td>4.890349</td>\n      <td>3.534317</td>\n    </tr>\n    <tr>\n      <th>8636</th>\n      <td>7785374</td>\n      <td>How to prevent column break within an element?...</td>\n      <td>0</td>\n      <td>The correct way to do this is with the break-i...</td>\n      <td>[the, correct, way, to, do, this, is, with, th...</td>\n      <td>[how, to, prevent, column, break, within, an, ...</td>\n      <td>the correct way to do this is with the break-i...</td>\n      <td>0.375405</td>\n      <td>155</td>\n      <td>0.501618</td>\n      <td>1.945910</td>\n      <td>0.327213</td>\n      <td>7.682943</td>\n      <td>[The correct way to do this is with the break-...</td>\n      <td>5.890723</td>\n      <td>5.761569</td>\n    </tr>\n    <tr>\n      <th>8637</th>\n      <td>10146080</td>\n      <td>Ternary operation in CoffeeScript\\n\\nI need to...</td>\n      <td>1</td>\n      <td>a = (true ? 5 : 10) # =&gt; a = 5\\na = (false ? 5...</td>\n      <td>[a, =, (true, ?, 5, :, 10), #, =&gt;, a, =, 5, a,...</td>\n      <td>[ternari, oper, in, coffeescript, i, need, to,...</td>\n      <td>a = (true ? 5 : 10) # =&gt; a = 5 a = (fals ? 5 :...</td>\n      <td>0.125000</td>\n      <td>11</td>\n      <td>0.458333</td>\n      <td>2.079442</td>\n      <td>1.945910</td>\n      <td>4.158883</td>\n      <td>[a = (true ?, 5 : 10) # =&gt; a = 5\\na = (false ?...</td>\n      <td>3.060271</td>\n      <td>2.221290</td>\n    </tr>\n  </tbody>\n</table>\n<p>7228 rows × 16 columns</p>\n</div>"
     },
     "execution_count": 8,
     "metadata": {},
     "output_type": "execute_result"
    }
   ],
   "source": [
    "full_train_data"
   ],
   "metadata": {
    "collapsed": false
   }
  },
  {
   "cell_type": "code",
   "execution_count": 9,
   "outputs": [
    {
     "name": "stdout",
     "output_type": "stream",
     "text": [
      "CPU times: user 7.91 s, sys: 30.2 ms, total: 7.94 s\n",
      "Wall time: 7.94 s\n"
     ]
    }
   ],
   "source": [
    "%%time\n",
    "test_data = prepare_data(test_data, train=False)"
   ],
   "metadata": {
    "collapsed": false
   }
  },
  {
   "cell_type": "code",
   "execution_count": 10,
   "outputs": [],
   "source": [
    "selected_features = ['answer_length', 'creativity', 'stealing_strength', 'sentence_length_mean', 'vocabulary_size']\n",
    "\n",
    "X_train = full_train_data[['stemmed_answer'] + selected_features]\n",
    "y_train = full_train_data.target\n",
    "X_test = test_data[['stemmed_answer'] + selected_features]\n",
    "y_test = test_data.target"
   ],
   "metadata": {
    "collapsed": false
   }
  },
  {
   "cell_type": "code",
   "execution_count": 11,
   "outputs": [],
   "source": [
    "from sklearn.model_selection import cross_val_score\n",
    "from train import forest_pipeline\n",
    "from sklearn.metrics import f1_score, accuracy_score"
   ],
   "metadata": {
    "collapsed": false
   }
  },
  {
   "cell_type": "code",
   "execution_count": 12,
   "outputs": [
    {
     "data": {
      "text/plain": "0.9188108664511263"
     },
     "execution_count": 12,
     "metadata": {},
     "output_type": "execute_result"
    }
   ],
   "source": [
    "pipe = forest_pipeline()\n",
    "cross_val_score(pipe, X_train, y_train, scoring='f1').mean()"
   ],
   "metadata": {
    "collapsed": false
   }
  },
  {
   "cell_type": "code",
   "execution_count": 13,
   "outputs": [
    {
     "data": {
      "text/plain": "0.8702397743300424"
     },
     "execution_count": 13,
     "metadata": {},
     "output_type": "execute_result"
    }
   ],
   "source": [
    "pipe.fit(X_train, y_train)\n",
    "f1_score(y_test, pipe.predict(X_test))"
   ],
   "metadata": {
    "collapsed": false
   }
  },
  {
   "cell_type": "code",
   "execution_count": 14,
   "outputs": [
    {
     "data": {
      "text/plain": "0.8922863099374566"
     },
     "execution_count": 14,
     "metadata": {},
     "output_type": "execute_result"
    }
   ],
   "source": [
    "accuracy_score(y_test[y_test==0], pipe.predict(X_test)[y_test==0])"
   ],
   "metadata": {
    "collapsed": false
   }
  },
  {
   "cell_type": "code",
   "execution_count": 15,
   "outputs": [
    {
     "data": {
      "text/plain": "0.8527988942639945"
     },
     "execution_count": 15,
     "metadata": {},
     "output_type": "execute_result"
    }
   ],
   "source": [
    "accuracy_score(y_test[y_test==1], pipe.predict(X_test)[y_test==1])"
   ],
   "metadata": {
    "collapsed": false
   }
  },
  {
   "cell_type": "code",
   "execution_count": 16,
   "outputs": [],
   "source": [
    "from sklearn.metrics import confusion_matrix"
   ],
   "metadata": {
    "collapsed": false
   }
  },
  {
   "cell_type": "code",
   "execution_count": 17,
   "outputs": [
    {
     "data": {
      "text/plain": "array([[1284,  213],\n       [ 155, 1234]])"
     },
     "execution_count": 17,
     "metadata": {},
     "output_type": "execute_result"
    }
   ],
   "source": [
    "confusion_matrix(pipe.predict(X_test), y_test)"
   ],
   "metadata": {
    "collapsed": false
   }
  },
  {
   "cell_type": "code",
   "execution_count": 17,
   "outputs": [],
   "source": [],
   "metadata": {
    "collapsed": false
   }
  }
 ],
 "metadata": {
  "kernelspec": {
   "display_name": "Python 3",
   "language": "python",
   "name": "python3"
  },
  "language_info": {
   "codemirror_mode": {
    "name": "ipython",
    "version": 2
   },
   "file_extension": ".py",
   "mimetype": "text/x-python",
   "name": "python",
   "nbconvert_exporter": "python",
   "pygments_lexer": "ipython2",
   "version": "2.7.6"
  }
 },
 "nbformat": 4,
 "nbformat_minor": 0
}
