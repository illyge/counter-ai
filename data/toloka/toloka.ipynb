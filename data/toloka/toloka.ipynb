{
 "cells": [
  {
   "cell_type": "code",
   "execution_count": 1,
   "metadata": {
    "collapsed": true
   },
   "outputs": [],
   "source": [
    "import pandas as pd"
   ]
  },
  {
   "cell_type": "code",
   "execution_count": 2,
   "outputs": [
    {
     "data": {
      "text/plain": "      question_id                                           question\n0        11227809  Why is processing a sorted array faster than p...\n1          927358  How do I undo the most recent local commits in...\n2         2003505  How do I delete a Git branch locally and remot...\n3          292357  What is the difference between 'git pull' and ...\n4          477816  Which JSON content type do I use?\\n\\nThere are...\n...           ...                                                ...\n8806      5878697  How do I remove blank elements from an array?\\...\n8807      7054972  Java system properties and environment variabl...\n8808      7785374  How to prevent column break within an element?...\n8809      8996852  load and execute order of scripts\\n\\nThere are...\n8810     10146080  Ternary operation in CoffeeScript\\n\\nI need to...\n\n[8811 rows x 2 columns]",
      "text/html": "<div>\n<style scoped>\n    .dataframe tbody tr th:only-of-type {\n        vertical-align: middle;\n    }\n\n    .dataframe tbody tr th {\n        vertical-align: top;\n    }\n\n    .dataframe thead th {\n        text-align: right;\n    }\n</style>\n<table border=\"1\" class=\"dataframe\">\n  <thead>\n    <tr style=\"text-align: right;\">\n      <th></th>\n      <th>question_id</th>\n      <th>question</th>\n    </tr>\n  </thead>\n  <tbody>\n    <tr>\n      <th>0</th>\n      <td>11227809</td>\n      <td>Why is processing a sorted array faster than p...</td>\n    </tr>\n    <tr>\n      <th>1</th>\n      <td>927358</td>\n      <td>How do I undo the most recent local commits in...</td>\n    </tr>\n    <tr>\n      <th>2</th>\n      <td>2003505</td>\n      <td>How do I delete a Git branch locally and remot...</td>\n    </tr>\n    <tr>\n      <th>3</th>\n      <td>292357</td>\n      <td>What is the difference between 'git pull' and ...</td>\n    </tr>\n    <tr>\n      <th>4</th>\n      <td>477816</td>\n      <td>Which JSON content type do I use?\\n\\nThere are...</td>\n    </tr>\n    <tr>\n      <th>...</th>\n      <td>...</td>\n      <td>...</td>\n    </tr>\n    <tr>\n      <th>8806</th>\n      <td>5878697</td>\n      <td>How do I remove blank elements from an array?\\...</td>\n    </tr>\n    <tr>\n      <th>8807</th>\n      <td>7054972</td>\n      <td>Java system properties and environment variabl...</td>\n    </tr>\n    <tr>\n      <th>8808</th>\n      <td>7785374</td>\n      <td>How to prevent column break within an element?...</td>\n    </tr>\n    <tr>\n      <th>8809</th>\n      <td>8996852</td>\n      <td>load and execute order of scripts\\n\\nThere are...</td>\n    </tr>\n    <tr>\n      <th>8810</th>\n      <td>10146080</td>\n      <td>Ternary operation in CoffeeScript\\n\\nI need to...</td>\n    </tr>\n  </tbody>\n</table>\n<p>8811 rows × 2 columns</p>\n</div>"
     },
     "execution_count": 2,
     "metadata": {},
     "output_type": "execute_result"
    }
   ],
   "source": [
    "toloka_input = pd.read_json(\"questions.jsonl\", lines=True)\n",
    "toloka_input"
   ],
   "metadata": {
    "collapsed": false
   }
  },
  {
   "cell_type": "code",
   "execution_count": 3,
   "outputs": [
    {
     "data": {
      "text/plain": "Index(['INPUT:question_id', 'INPUT:question'], dtype='object')"
     },
     "execution_count": 3,
     "metadata": {},
     "output_type": "execute_result"
    }
   ],
   "source": [
    "toloka_input = toloka_input.rename(mapper=lambda x: f\"INPUT:{x}\", axis=1)\n",
    "toloka_input.columns"
   ],
   "metadata": {
    "collapsed": false
   }
  },
  {
   "cell_type": "code",
   "execution_count": 4,
   "outputs": [],
   "source": [
    "toloka_input.iloc[5100:6500].to_csv(\"toloka_5100_6500.tsv\", sep=\"\\t\", index=False)"
   ],
   "metadata": {
    "collapsed": false
   }
  },
  {
   "cell_type": "code",
   "execution_count": 4,
   "outputs": [],
   "source": [],
   "metadata": {
    "collapsed": false
   }
  }
 ],
 "metadata": {
  "kernelspec": {
   "display_name": "Python 3",
   "language": "python",
   "name": "python3"
  },
  "language_info": {
   "codemirror_mode": {
    "name": "ipython",
    "version": 2
   },
   "file_extension": ".py",
   "mimetype": "text/x-python",
   "name": "python",
   "nbconvert_exporter": "python",
   "pygments_lexer": "ipython2",
   "version": "2.7.6"
  }
 },
 "nbformat": 4,
 "nbformat_minor": 0
}
