{
 "cells": [
  {
   "cell_type": "code",
   "execution_count": 1,
   "metadata": {
    "collapsed": true
   },
   "outputs": [],
   "source": [
    "import pandas as pd"
   ]
  },
  {
   "cell_type": "code",
   "execution_count": 2,
   "outputs": [],
   "source": [
    "assignments = pd.read_table(\"assignments_from_pool_37361170__03-02-2023.tsv\")"
   ],
   "metadata": {
    "collapsed": false
   }
  },
  {
   "cell_type": "code",
   "execution_count": 3,
   "outputs": [
    {
     "data": {
      "text/plain": "Index(['INPUT:question', 'INPUT:question_id', 'OUTPUT:answer', 'GOLDEN:answer',\n       'HINT:text', 'HINT:default_language', 'ASSIGNMENT:link',\n       'ASSIGNMENT:task_id', 'ASSIGNMENT:assignment_id',\n       'ASSIGNMENT:worker_id', 'ASSIGNMENT:status', 'ASSIGNMENT:started',\n       'ACCEPT:verdict', 'ACCEPT:comment'],\n      dtype='object')"
     },
     "execution_count": 3,
     "metadata": {},
     "output_type": "execute_result"
    }
   ],
   "source": [
    "assignments.columns"
   ],
   "metadata": {
    "collapsed": false
   }
  },
  {
   "cell_type": "code",
   "execution_count": 4,
   "outputs": [
    {
     "data": {
      "text/plain": "-    53\n+    47\nName: ACCEPT:verdict, dtype: int64"
     },
     "execution_count": 4,
     "metadata": {},
     "output_type": "execute_result"
    }
   ],
   "source": [
    "assignments['ACCEPT:verdict'].value_counts()"
   ],
   "metadata": {
    "collapsed": false
   }
  },
  {
   "cell_type": "code",
   "execution_count": 5,
   "outputs": [
    {
     "data": {
      "text/plain": "Index(['INPUT:question_id', 'INPUT:question'], dtype='object')"
     },
     "execution_count": 5,
     "metadata": {},
     "output_type": "execute_result"
    }
   ],
   "source": [
    "toloka_input = pd.read_table(\"questions_100.tsv\")\n",
    "toloka_input.columns"
   ],
   "metadata": {
    "collapsed": false
   }
  },
  {
   "cell_type": "code",
   "execution_count": 6,
   "outputs": [
    {
     "data": {
      "text/plain": "      question_id                                           question\n0        11227809  Why is processing a sorted array faster than p...\n1          927358  How do I undo the most recent local commits in...\n2         2003505  How do I delete a Git branch locally and remot...\n3          292357  What is the difference between 'git pull' and ...\n4          477816  Which JSON content type do I use?\\n\\nThere are...\n...           ...                                                ...\n8806      5878697  How do I remove blank elements from an array?\\...\n8807      7054972  Java system properties and environment variabl...\n8808      7785374  How to prevent column break within an element?...\n8809      8996852  load and execute order of scripts\\n\\nThere are...\n8810     10146080  Ternary operation in CoffeeScript\\n\\nI need to...\n\n[8811 rows x 2 columns]",
      "text/html": "<div>\n<style scoped>\n    .dataframe tbody tr th:only-of-type {\n        vertical-align: middle;\n    }\n\n    .dataframe tbody tr th {\n        vertical-align: top;\n    }\n\n    .dataframe thead th {\n        text-align: right;\n    }\n</style>\n<table border=\"1\" class=\"dataframe\">\n  <thead>\n    <tr style=\"text-align: right;\">\n      <th></th>\n      <th>question_id</th>\n      <th>question</th>\n    </tr>\n  </thead>\n  <tbody>\n    <tr>\n      <th>0</th>\n      <td>11227809</td>\n      <td>Why is processing a sorted array faster than p...</td>\n    </tr>\n    <tr>\n      <th>1</th>\n      <td>927358</td>\n      <td>How do I undo the most recent local commits in...</td>\n    </tr>\n    <tr>\n      <th>2</th>\n      <td>2003505</td>\n      <td>How do I delete a Git branch locally and remot...</td>\n    </tr>\n    <tr>\n      <th>3</th>\n      <td>292357</td>\n      <td>What is the difference between 'git pull' and ...</td>\n    </tr>\n    <tr>\n      <th>4</th>\n      <td>477816</td>\n      <td>Which JSON content type do I use?\\n\\nThere are...</td>\n    </tr>\n    <tr>\n      <th>...</th>\n      <td>...</td>\n      <td>...</td>\n    </tr>\n    <tr>\n      <th>8806</th>\n      <td>5878697</td>\n      <td>How do I remove blank elements from an array?\\...</td>\n    </tr>\n    <tr>\n      <th>8807</th>\n      <td>7054972</td>\n      <td>Java system properties and environment variabl...</td>\n    </tr>\n    <tr>\n      <th>8808</th>\n      <td>7785374</td>\n      <td>How to prevent column break within an element?...</td>\n    </tr>\n    <tr>\n      <th>8809</th>\n      <td>8996852</td>\n      <td>load and execute order of scripts\\n\\nThere are...</td>\n    </tr>\n    <tr>\n      <th>8810</th>\n      <td>10146080</td>\n      <td>Ternary operation in CoffeeScript\\n\\nI need to...</td>\n    </tr>\n  </tbody>\n</table>\n<p>8811 rows × 2 columns</p>\n</div>"
     },
     "execution_count": 6,
     "metadata": {},
     "output_type": "execute_result"
    }
   ],
   "source": [
    "toloka_input = pd.read_json(\"questions.jsonl\", lines=True)\n",
    "toloka_input"
   ],
   "metadata": {
    "collapsed": false
   }
  },
  {
   "cell_type": "code",
   "execution_count": 7,
   "outputs": [
    {
     "data": {
      "text/plain": "Index(['INPUT:question_id', 'INPUT:question'], dtype='object')"
     },
     "execution_count": 7,
     "metadata": {},
     "output_type": "execute_result"
    }
   ],
   "source": [
    "toloka_input = toloka_input.rename(mapper=lambda x: f\"INPUT:{x}\", axis=1)\n",
    "toloka_input.columns"
   ],
   "metadata": {
    "collapsed": false
   }
  },
  {
   "cell_type": "code",
   "execution_count": 8,
   "outputs": [
    {
     "data": {
      "text/plain": "     INPUT:question_id                                     INPUT:question\n100             679915  How do I test for an empty JavaScript object?\\...\n101              46898  How do I efficiently iterate over each entry i...\n102            1098040  Checking if a key exists in a JavaScript objec...\n103             638975  How do I tell if a file does not exist in Bash...\n104            8710619  Why don't Java's +=, -=, *=, /= compound assig...\n..                 ...                                                ...\n495             359424  Detach (move) subdirectory into separate Git r...\n496            1144805  Scroll to the top of the page using JavaScript...\n497             588866  What's the difference between the atomic and n...\n498            3514784  How to detect a mobile device using jQuery\\n\\n...\n499            5805059  How do I make a placeholder for a 'select' box...\n\n[400 rows x 2 columns]",
      "text/html": "<div>\n<style scoped>\n    .dataframe tbody tr th:only-of-type {\n        vertical-align: middle;\n    }\n\n    .dataframe tbody tr th {\n        vertical-align: top;\n    }\n\n    .dataframe thead th {\n        text-align: right;\n    }\n</style>\n<table border=\"1\" class=\"dataframe\">\n  <thead>\n    <tr style=\"text-align: right;\">\n      <th></th>\n      <th>INPUT:question_id</th>\n      <th>INPUT:question</th>\n    </tr>\n  </thead>\n  <tbody>\n    <tr>\n      <th>100</th>\n      <td>679915</td>\n      <td>How do I test for an empty JavaScript object?\\...</td>\n    </tr>\n    <tr>\n      <th>101</th>\n      <td>46898</td>\n      <td>How do I efficiently iterate over each entry i...</td>\n    </tr>\n    <tr>\n      <th>102</th>\n      <td>1098040</td>\n      <td>Checking if a key exists in a JavaScript objec...</td>\n    </tr>\n    <tr>\n      <th>103</th>\n      <td>638975</td>\n      <td>How do I tell if a file does not exist in Bash...</td>\n    </tr>\n    <tr>\n      <th>104</th>\n      <td>8710619</td>\n      <td>Why don't Java's +=, -=, *=, /= compound assig...</td>\n    </tr>\n    <tr>\n      <th>...</th>\n      <td>...</td>\n      <td>...</td>\n    </tr>\n    <tr>\n      <th>495</th>\n      <td>359424</td>\n      <td>Detach (move) subdirectory into separate Git r...</td>\n    </tr>\n    <tr>\n      <th>496</th>\n      <td>1144805</td>\n      <td>Scroll to the top of the page using JavaScript...</td>\n    </tr>\n    <tr>\n      <th>497</th>\n      <td>588866</td>\n      <td>What's the difference between the atomic and n...</td>\n    </tr>\n    <tr>\n      <th>498</th>\n      <td>3514784</td>\n      <td>How to detect a mobile device using jQuery\\n\\n...</td>\n    </tr>\n    <tr>\n      <th>499</th>\n      <td>5805059</td>\n      <td>How do I make a placeholder for a 'select' box...</td>\n    </tr>\n  </tbody>\n</table>\n<p>400 rows × 2 columns</p>\n</div>"
     },
     "execution_count": 8,
     "metadata": {},
     "output_type": "execute_result"
    }
   ],
   "source": [
    "toloka_input.iloc[100:500]"
   ],
   "metadata": {
    "collapsed": false
   }
  },
  {
   "cell_type": "code",
   "execution_count": 9,
   "outputs": [
    {
     "data": {
      "text/plain": "Empty DataFrame\nColumns: [INPUT:question_id, INPUT:question]\nIndex: []",
      "text/html": "<div>\n<style scoped>\n    .dataframe tbody tr th:only-of-type {\n        vertical-align: middle;\n    }\n\n    .dataframe tbody tr th {\n        vertical-align: top;\n    }\n\n    .dataframe thead th {\n        text-align: right;\n    }\n</style>\n<table border=\"1\" class=\"dataframe\">\n  <thead>\n    <tr style=\"text-align: right;\">\n      <th></th>\n      <th>INPUT:question_id</th>\n      <th>INPUT:question</th>\n    </tr>\n  </thead>\n  <tbody>\n  </tbody>\n</table>\n</div>"
     },
     "execution_count": 9,
     "metadata": {},
     "output_type": "execute_result"
    }
   ],
   "source": [],
   "metadata": {
    "collapsed": false
   }
  },
  {
   "cell_type": "code",
   "execution_count": 11,
   "outputs": [],
   "source": [
    "toloka_input.iloc[5000:5100].to_csv(\"toloka_5000_5100.tsv\", sep=\"\\t\", index=False)"
   ],
   "metadata": {
    "collapsed": false
   }
  },
  {
   "cell_type": "code",
   "execution_count": 2,
   "outputs": [
    {
     "ename": "NameError",
     "evalue": "name 'toloka_input' is not defined",
     "output_type": "error",
     "traceback": [
      "\u001B[0;31m---------------------------------------------------------------------------\u001B[0m",
      "\u001B[0;31mNameError\u001B[0m                                 Traceback (most recent call last)",
      "Cell \u001B[0;32mIn[2], line 1\u001B[0m\n\u001B[0;32m----> 1\u001B[0m \u001B[43mtoloka_input\u001B[49m[toloka_input[\u001B[38;5;124m\"\u001B[39m\u001B[38;5;124mINPUT:question_id\u001B[39m\u001B[38;5;124m\"\u001B[39m] \u001B[38;5;241m==\u001B[39m \u001B[38;5;241m231767\u001B[39m]\n",
      "\u001B[0;31mNameError\u001B[0m: name 'toloka_input' is not defined"
     ]
    }
   ],
   "source": [
    "toloka_input[toloka_input[\"INPUT:question_id\"] == 231767]"
   ],
   "metadata": {
    "collapsed": false
   }
  },
  {
   "cell_type": "code",
   "execution_count": null,
   "outputs": [],
   "source": [],
   "metadata": {
    "collapsed": false
   }
  }
 ],
 "metadata": {
  "kernelspec": {
   "display_name": "Python 3",
   "language": "python",
   "name": "python3"
  },
  "language_info": {
   "codemirror_mode": {
    "name": "ipython",
    "version": 2
   },
   "file_extension": ".py",
   "mimetype": "text/x-python",
   "name": "python",
   "nbconvert_exporter": "python",
   "pygments_lexer": "ipython2",
   "version": "2.7.6"
  }
 },
 "nbformat": 4,
 "nbformat_minor": 0
}
